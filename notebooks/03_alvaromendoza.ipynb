{
 "cells": [
  {
   "cell_type": "code",
   "execution_count": 1,
   "metadata": {},
   "outputs": [
    {
     "data": {
      "text/plain": [
       "'0.4.1'"
      ]
     },
     "execution_count": 1,
     "metadata": {},
     "output_type": "execute_result"
    }
   ],
   "source": [
    "# taken from https://www.kaggle.com/mjbahmani/a-comprehensive-ml-workflow-for-house-prices\n",
    "# Adapted into the ballet framework\n",
    "import ballet\n",
    "import ballet.eng\n",
    "from ballet import Feature\n",
    "import numpy as np\n",
    "import pandas as pd\n",
    "import sklearn\n",
    "import sklearn_pandas\n",
    "from sklearn.model_selection import train_test_split\n",
    "\n",
    "ballet.__version__"
   ]
  },
  {
   "cell_type": "code",
   "execution_count": 2,
   "metadata": {},
   "outputs": [],
   "source": [
    "all_features = []"
   ]
  },
  {
   "cell_type": "code",
   "execution_count": 4,
   "metadata": {},
   "outputs": [],
   "source": [
    "input = ['EnclosedPorch', '3SsnPorch', 'OpenPorchSF']\n",
    "def calc_porch_type(df):    \n",
    "    # Porch features\n",
    "    porch_type = df['TotalPorchArea'].apply(\n",
    "        lambda x: 'Missing' if x == 0 else 'Multiple')\n",
    "    porch_type[(df['TotalPorchArea'] == df['EnclosedPorch'])\n",
    "               & (df['EnclosedPorch'] > 0)] = 'Enclosed'\n",
    "    porch_type[(df['TotalPorchArea'] == df['3SsnPorch'])\n",
    "               & (df['3SsnPorch'] > 0)] = '3Ssn'\n",
    "    porch_type[(df['TotalPorchArea'] == df['OpenPorchSF'])\n",
    "               & (df['OpenPorchSF'] > 0)] = 'Open'\n",
    "    return porch_type\n",
    "transformer = ballet.eng.SimpleFunctionTransformer(func=calc_porch_type)\n",
    "porch = Feature(input=input, transformer=transformer, name='Porch Type Calculation')\n",
    "all_features.append(porch)"
   ]
  },
  {
   "cell_type": "code",
   "execution_count": 6,
   "metadata": {},
   "outputs": [],
   "source": [
    "input = ['EnclosedPorch', '3SsnPorch', 'OpenPorchSF']\n",
    "def calc_porch_area(df):\n",
    "    return df['EnclosedPorch'] + df['3SsnPorch'] + df['OpenPorchSF']\n",
    "transformer = ballet.eng.SimpleFunctionTransformer(func=calc_porch_area)\n",
    "total_area = Feature(input=input, transformer=transformer, name='Porch Area Calculation')\n",
    "all_features.append(total_area)"
   ]
  },
  {
   "cell_type": "code",
   "execution_count": 7,
   "metadata": {},
   "outputs": [],
   "source": [
    "input = ['TotalBsmtSF', '1stFlrSF', '2ndFlrSF']\n",
    "def add_areas(df):\n",
    "    return df['TotalBsmtSF'] + df['1stFlrSF'] + df['2ndFlrSF']\n",
    "transformer = ballet.eng.SimpleFunctionTransformer(func=add_areas)\n",
    "total_area = Feature(input=input, transformer=transformer, name='Total Area Calculation')\n",
    "all_features.append(total_area)"
   ]
  },
  {
   "cell_type": "code",
   "execution_count": 8,
   "metadata": {},
   "outputs": [],
   "source": [
    "input = ['FullBath', 'HalfBath', 'BsmtFullBath', 'BsmtHalfBath']\n",
    "def calc_bath(df):\n",
    "    return df[FullBath] + df['HalfBath'] + df['BsmtFullBath'] + df['BsmtHalfBath']\n",
    "transformer = ballet.eng.SimpleFunctionTransformer(func=calc_bath)\n",
    "baths = Feature(input=input, transformer=transformer, name='Bathroom Count')\n",
    "all_features.append(baths)"
   ]
  },
  {
   "cell_type": "code",
   "execution_count": null,
   "metadata": {},
   "outputs": [],
   "source": [
    "input = ['GarageArea', 'GarageCars']\n",
    "def calc_garage_per_car(df):\n",
    "    df['GarageAreaPerCar'] = df['GarageArea'] / df['GarageCars']\n",
    "    df.loc[~np.isfinite(df['GarageAreaPerCar']), 'GarageAreaPerCar'] = 0\n",
    "    return df['GarageAreaPerCar']\n",
    "transformer = ballet.eng.SimpleFunctionTransformer(func=calc_garage_per_car)\n",
    "cars = Feature(input=input, transformer=transformer, name='Garage Area Per Car')\n",
    "all_features.append(cars)"
   ]
  }
 ],
 "metadata": {
  "kernelspec": {
   "display_name": "Python 3",
   "language": "python",
   "name": "python3"
  },
  "language_info": {
   "codemirror_mode": {
    "name": "ipython",
    "version": 3
   },
   "file_extension": ".py",
   "mimetype": "text/x-python",
   "name": "python",
   "nbconvert_exporter": "python",
   "pygments_lexer": "ipython3",
   "version": "3.6.5"
  }
 },
 "nbformat": 4,
 "nbformat_minor": 2
}
