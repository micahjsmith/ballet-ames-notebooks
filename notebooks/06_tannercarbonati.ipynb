{
 "cells": [
  {
   "cell_type": "code",
   "execution_count": 1,
   "metadata": {},
   "outputs": [
    {
     "data": {
      "text/plain": [
       "'0.4.1'"
      ]
     },
     "execution_count": 1,
     "metadata": {},
     "output_type": "execute_result"
    }
   ],
   "source": [
    "# taken from https://www.kaggle.com/tannercarbonati/detailed-data-analysis-ensemble-modeling\n",
    "# Adapted into the ballet framework\n",
    "import ballet\n",
    "import ballet.eng\n",
    "from ballet import Feature\n",
    "import numpy as np\n",
    "import pandas as pd\n",
    "import sklearn\n",
    "import sklearn_pandas\n",
    "from sklearn.model_selection import train_test_split\n",
    "\n",
    "ballet.__version__"
   ]
  },
  {
   "cell_type": "code",
   "execution_count": 2,
   "metadata": {},
   "outputs": [],
   "source": [
    "all_features = []"
   ]
  },
  {
   "cell_type": "code",
   "execution_count": 3,
   "metadata": {},
   "outputs": [],
   "source": [
    "input = ['Pool QC']\n",
    "transformer = [ballet.eng.missing.NullFiller(replacement=\"None\"), sklearn.preprocessing.OneHotEncoder()]\n",
    "misc_fill = Feature(input=input, transformer=transformer, name='PoolQC Misc Fill')\n",
    "all_features.append(misc_fill)"
   ]
  },
  {
   "cell_type": "code",
   "execution_count": 4,
   "metadata": {},
   "outputs": [],
   "source": [
    "input = ['Year Built', 'Garage Yr Blt']\n",
    "def calc_age(df):\n",
    "    mask = df['Year Built'].isna()\n",
    "    df['Year Built'][mask] = df['Garage Yr Blt'][mask]\n",
    "    return df['Year Built']\n",
    "transformer = ballet.eng.SimpleFunctionTransformer(func=calc_age)\n",
    "age = Feature(input=input, transformer=transformer)\n",
    "all_features.append(age)"
   ]
  },
  {
   "cell_type": "code",
   "execution_count": 5,
   "metadata": {},
   "outputs": [],
   "source": [
    "input = ['Garage Type']\n",
    "transformer = [ballet.eng.missing.NullFiller(replacement=\"missing\"), sklearn.preprocessing.OneHotEncoder()]\n",
    "misc_fill = Feature(input=input, transformer=transformer)\n",
    "all_features.append(misc_fill)"
   ]
  },
  {
   "cell_type": "code",
   "execution_count": 6,
   "metadata": {},
   "outputs": [],
   "source": [
    "input = ['Garage Finish']\n",
    "transformer = [ballet.eng.missing.NullFiller(replacement=\"missing\"), sklearn.preprocessing.OneHotEncoder()]\n",
    "misc_fill = Feature(input=input, transformer=transformer)\n",
    "all_features.append(misc_fill)"
   ]
  },
  {
   "cell_type": "code",
   "execution_count": 7,
   "metadata": {},
   "outputs": [],
   "source": [
    "input = ['Garage Qual']\n",
    "transformer = [ballet.eng.missing.NullFiller(replacement=\"missing\"), sklearn.preprocessing.OneHotEncoder()]\n",
    "misc_fill = Feature(input=input, transformer=transformer)\n",
    "all_features.append(misc_fill)"
   ]
  },
  {
   "cell_type": "code",
   "execution_count": 8,
   "metadata": {},
   "outputs": [],
   "source": [
    "input = ['Garage Cond']\n",
    "transformer = [ballet.eng.missing.NullFiller(replacement=\"missing\"), sklearn.preprocessing.OneHotEncoder()]\n",
    "misc_fill = Feature(input=input, transformer=transformer)\n",
    "all_features.append(misc_fill)"
   ]
  },
  {
   "cell_type": "code",
   "execution_count": 9,
   "metadata": {},
   "outputs": [],
   "source": [
    "input = ['Garage Cars']\n",
    "transformer = [ballet.eng.missing.NullFiller(replacement=0), sklearn.preprocessing.OneHotEncoder()]\n",
    "misc_fill = Feature(input=input, transformer=transformer)\n",
    "all_features.append(misc_fill)"
   ]
  },
  {
   "cell_type": "code",
   "execution_count": 10,
   "metadata": {},
   "outputs": [],
   "source": [
    "input = ['Garage Area']\n",
    "transformer = [ballet.eng.missing.NullFiller(replacement=0), sklearn.preprocessing.OneHotEncoder()]\n",
    "misc_fill = Feature(input=input, transformer=transformer)\n",
    "all_features.append(misc_fill)"
   ]
  },
  {
   "cell_type": "code",
   "execution_count": 11,
   "metadata": {},
   "outputs": [],
   "source": [
    "input = ['Garage Type']\n",
    "transformer = [ballet.eng.missing.NullFiller(replacement=\"missing\"), sklearn.preprocessing.OneHotEncoder()]\n",
    "misc_fill = Feature(input=input, transformer=transformer)\n",
    "all_features.append(misc_fill)"
   ]
  },
  {
   "cell_type": "code",
   "execution_count": 12,
   "metadata": {},
   "outputs": [],
   "source": [
    "input = ['Garage Finish']\n",
    "transformer = [ballet.eng.missing.NullFiller(replacement=\"missing\"), sklearn.preprocessing.OneHotEncoder()]\n",
    "misc_fill = Feature(input=input, transformer=transformer)\n",
    "all_features.append(misc_fill)"
   ]
  },
  {
   "cell_type": "code",
   "execution_count": 13,
   "metadata": {},
   "outputs": [],
   "source": [
    "input = ['Garage Qual']\n",
    "transformer = [ballet.eng.missing.NullFiller(replacement=\"missing\"), sklearn.preprocessing.OneHotEncoder()]\n",
    "misc_fill = Feature(input=input, transformer=transformer)\n",
    "all_features.append(misc_fill)"
   ]
  },
  {
   "cell_type": "code",
   "execution_count": 14,
   "metadata": {},
   "outputs": [],
   "source": [
    "input = ['Exterior 1st']\n",
    "transformer = [ballet.eng.missing.NullFiller(replacement=\"None\"), sklearn.preprocessing.OneHotEncoder()]\n",
    "factor = Feature(input=input, transformer=transformer)\n",
    "all_features.append(factor)"
   ]
  },
  {
   "cell_type": "code",
   "execution_count": 15,
   "metadata": {},
   "outputs": [],
   "source": [
    "input = ['Exterior 2nd']\n",
    "transformer = [ballet.eng.missing.NullFiller(replacement=\"None\"), sklearn.preprocessing.OneHotEncoder()]\n",
    "factor = Feature(input=input, transformer=transformer)\n",
    "all_features.append(factor)"
   ]
  },
  {
   "cell_type": "code",
   "execution_count": 16,
   "metadata": {},
   "outputs": [],
   "source": [
    "input = ['Electrical']\n",
    "def mode_filler(df):\n",
    "    df = df.copy()\n",
    "    return df['Electrical'].fillna(df['Electrical'].mode()[0])\n",
    "transformer = [ballet.eng.SimpleFunctionTransformer(func=mode_filler), sklearn.preprocessing.OneHotEncoder()]\n",
    "misc_fill = Feature(input=input, transformer=transformer)\n",
    "all_features.append(misc_fill)"
   ]
  },
  {
   "cell_type": "code",
   "execution_count": 17,
   "metadata": {},
   "outputs": [],
   "source": [
    "input = ['Utilities']\n",
    "def mode_filler(df):\n",
    "    df = df.copy()\n",
    "    return df['Utilities'].fillna(df['Utilities'].mode()[0])\n",
    "transformer = [ballet.eng.SimpleFunctionTransformer(func=mode_filler), sklearn.preprocessing.OneHotEncoder()]\n",
    "misc_fill = Feature(input=input, transformer=transformer)\n",
    "all_features.append(misc_fill)"
   ]
  },
  {
   "cell_type": "code",
   "execution_count": 18,
   "metadata": {},
   "outputs": [],
   "source": [
    "input = ['Sale Type']\n",
    "def mode_filler(df):\n",
    "    df = df.copy()\n",
    "    return df['Sale Type'].fillna(df['Sale Type'].mode()[0])\n",
    "transformer = [ballet.eng.SimpleFunctionTransformer(func=mode_filler), sklearn.preprocessing.OneHotEncoder()]\n",
    "misc_fill = Feature(input=input, transformer=transformer)\n",
    "all_features.append(misc_fill)"
   ]
  },
  {
   "cell_type": "code",
   "execution_count": 19,
   "metadata": {},
   "outputs": [],
   "source": [
    "input = ['Kitchen Qual']\n",
    "def mode_filler(df):\n",
    "    df = df.copy()\n",
    "    return df['Kitchen Qual'].fillna(df['Kitchen Qual'].mode()[0])\n",
    "transformer = [ballet.eng.SimpleFunctionTransformer(func=mode_filler), sklearn.preprocessing.OneHotEncoder()]\n",
    "misc_fill = Feature(input=input, transformer=transformer)\n",
    "all_features.append(misc_fill)"
   ]
  },
  {
   "cell_type": "code",
   "execution_count": 20,
   "metadata": {},
   "outputs": [],
   "source": [
    "input = ['Mas Vnr Type']\n",
    "transformer = [ballet.eng.missing.NullFiller(replacement=\"None\"), sklearn.preprocessing.OneHotEncoder()]\n",
    "misc_fill = Feature(input=input, transformer=transformer)\n",
    "all_features.append(misc_fill)"
   ]
  },
  {
   "cell_type": "code",
   "execution_count": 21,
   "metadata": {},
   "outputs": [],
   "source": [
    "input = ['Mas Vnr Area']\n",
    "transformer = [ballet.eng.missing.NullFiller(replacement=0), sklearn.preprocessing.OneHotEncoder()]\n",
    "misc_fill = Feature(input=input, transformer=transformer)\n",
    "all_features.append(misc_fill)"
   ]
  },
  {
   "cell_type": "code",
   "execution_count": 22,
   "metadata": {},
   "outputs": [],
   "source": [
    "# LotFrontage : Since the area of each street connected to the house property most\n",
    "# likely have a similar area to other houses in its neighborhood , we can fill in\n",
    "# missing values by the median LotFrontage of the neighborhood.\n",
    "\n",
    "input = ['Lot Frontage', 'Neighborhood']\n",
    "def impute_lot_frontage(df):\n",
    "    frontage = df['Lot Frontage']\n",
    "    return frontage.fillna(frontage.median())\n",
    "transformer = ballet.eng.GroupedFunctionTransformer(func=impute_lot_frontage, groupby_kwargs={'by': 'Neighborhood'})\n",
    "frontage_feature = Feature(input=input, transformer=transformer)\n",
    "all_features.append(frontage_feature)"
   ]
  },
  {
   "cell_type": "code",
   "execution_count": 23,
   "metadata": {},
   "outputs": [],
   "source": [
    "input = ['Fence']\n",
    "transformer = [ballet.eng.missing.NullFiller(replacement=\"missing\"), sklearn.preprocessing.OneHotEncoder()]\n",
    "misc_fill = Feature(input=input, transformer=transformer)\n",
    "all_features.append(misc_fill)"
   ]
  },
  {
   "cell_type": "code",
   "execution_count": 24,
   "metadata": {},
   "outputs": [],
   "source": [
    "input = ['Misc Feature']\n",
    "transformer = [ballet.eng.missing.NullFiller(replacement=\"missing\"), sklearn.preprocessing.OneHotEncoder()]\n",
    "misc_fill = Feature(input=input, transformer=transformer)\n",
    "all_features.append(misc_fill)"
   ]
  },
  {
   "cell_type": "code",
   "execution_count": 25,
   "metadata": {},
   "outputs": [],
   "source": [
    "input = ['Fireplace Qu']\n",
    "transformer = [ballet.eng.missing.NullFiller(replacement=\"missing\"), sklearn.preprocessing.OneHotEncoder()]\n",
    "misc_fill = Feature(input=input, transformer=transformer)\n",
    "all_features.append(misc_fill)"
   ]
  },
  {
   "cell_type": "code",
   "execution_count": 26,
   "metadata": {},
   "outputs": [],
   "source": [
    "input = ['Alley']\n",
    "transformer = [ballet.eng.missing.NullFiller(replacement=\"missing\"), sklearn.preprocessing.OneHotEncoder()]\n",
    "misc_fill = Feature(input=input, transformer=transformer, name='Alley Misc Fill')\n",
    "all_features.append(misc_fill)"
   ]
  },
  {
   "cell_type": "code",
   "execution_count": 27,
   "metadata": {},
   "outputs": [],
   "source": [
    "def has_reg(df):\n",
    "    return (df['Lot Shape'] == 'Reg') * 1\n",
    "input = ['Lot Shape']\n",
    "transformer = ballet.eng.SimpleFunctionTransformer(func=has_reg)\n",
    "reg = Feature(input=input, transformer=transformer)\n",
    "all_features.append(reg)"
   ]
  },
  {
   "cell_type": "code",
   "execution_count": 28,
   "metadata": {},
   "outputs": [],
   "source": [
    "def has_contour(df):\n",
    "    return (df['Land Contour'] == 'Lvl') * 1\n",
    "input = ['Land Contour']\n",
    "transformer = ballet.eng.SimpleFunctionTransformer(func=has_contour)\n",
    "contour = Feature(input=input, transformer=transformer)\n",
    "all_features.append(contour)"
   ]
  },
  {
   "cell_type": "code",
   "execution_count": 29,
   "metadata": {},
   "outputs": [],
   "source": [
    "def has_qual(df):\n",
    "    return (df['Paved Drive'] == 'Y') * 1\n",
    "input = ['Paved Drive']\n",
    "transformer = ballet.eng.SimpleFunctionTransformer(func=has_qual)\n",
    "qual = Feature(input=input, transformer=transformer)\n",
    "all_features.append(qual)"
   ]
  },
  {
   "cell_type": "code",
   "execution_count": 30,
   "metadata": {},
   "outputs": [],
   "source": [
    "def has_qual(df):\n",
    "    return (df['Land Slope'] == 'Gtl') * 1\n",
    "input = ['Land Slope']\n",
    "transformer = ballet.eng.SimpleFunctionTransformer(func=has_qual)\n",
    "qual = Feature(input=input, transformer=transformer)\n",
    "all_features.append(qual)"
   ]
  },
  {
   "cell_type": "code",
   "execution_count": 31,
   "metadata": {},
   "outputs": [],
   "source": [
    "def has_qual(df):\n",
    "    return (df['Electrical'] == 'SBrkr') * 1\n",
    "input = ['Electrical']\n",
    "transformer = ballet.eng.SimpleFunctionTransformer(func=has_qual)\n",
    "qual = Feature(input=input, transformer=transformer)\n",
    "all_features.append(qual)"
   ]
  },
  {
   "cell_type": "code",
   "execution_count": 32,
   "metadata": {},
   "outputs": [],
   "source": [
    "def has_qual(df):\n",
    "    return (df['Sale Condition'] == 'Partial') * 1\n",
    "input = ['Sale Condition']\n",
    "transformer = ballet.eng.SimpleFunctionTransformer(func=has_qual)\n",
    "qual = Feature(input=input, transformer=transformer)\n",
    "all_features.append(qual)"
   ]
  },
  {
   "cell_type": "code",
   "execution_count": 33,
   "metadata": {},
   "outputs": [],
   "source": [
    "def has_qual(df):\n",
    "    return (df['Wood Deck SF'] > 0) * 1\n",
    "input = ['Wood Deck SF']\n",
    "transformer = ballet.eng.SimpleFunctionTransformer(func=has_qual)\n",
    "qual = Feature(input=input, transformer=transformer)\n",
    "all_features.append(qual)"
   ]
  },
  {
   "cell_type": "code",
   "execution_count": 34,
   "metadata": {},
   "outputs": [],
   "source": [
    "def has_qual(df):\n",
    "    return (df['Mas Vnr Area'] > 0) * 1\n",
    "input = ['Mas Vnr Area']\n",
    "transformer = ballet.eng.SimpleFunctionTransformer(func=has_qual)\n",
    "qual = Feature(input=input, transformer=transformer)\n",
    "all_features.append(qual)"
   ]
  },
  {
   "cell_type": "code",
   "execution_count": 35,
   "metadata": {},
   "outputs": [],
   "source": [
    "def has_qual(df):\n",
    "    return (df['Neighborhood'].isin(['Crawfor', 'Somerst, Timber', 'StoneBr', 'NoRidge', 'NridgeHt'])) * 1\n",
    "input = ['Mas Vnr Area']\n",
    "transformer = ballet.eng.SimpleFunctionTransformer(func=has_qual)\n",
    "qual = Feature(input=input, transformer=transformer)\n",
    "all_features.append(qual)"
   ]
  },
  {
   "cell_type": "code",
   "execution_count": 36,
   "metadata": {},
   "outputs": [],
   "source": [
    "input = ['Year Built', 'Year Remod/Add']\n",
    "def is_remod(df):\n",
    "    return df['Year Built'] != df['Year Remod/Add']\n",
    "transformer = ballet.eng.SimpleFunctionTransformer(func=is_remod)\n",
    "remod = Feature(input=input, transformer=transformer, name='Remodeled')\n",
    "all_features.append(remod)"
   ]
  },
  {
   "cell_type": "code",
   "execution_count": 37,
   "metadata": {},
   "outputs": [],
   "source": [
    "input = ['Yr Sold', 'Year Remod/Add']\n",
    "def calc_age(df):\n",
    "    return df['Yr Sold'] - df['Year Remod/Add']\n",
    "transformer = ballet.eng.SimpleFunctionTransformer(func=calc_age)\n",
    "age = Feature(input=input, transformer=transformer, name='Age')\n",
    "all_features.append(age)"
   ]
  },
  {
   "cell_type": "code",
   "execution_count": null,
   "metadata": {},
   "outputs": [],
   "source": [
    "input = ['Year Built']\n",
    "def calc_age(df):\n",
    "    return 2018 - df['Year Built']\n",
    "transformer = ballet.eng.SimpleFunctionTransformer(func=calc_age)\n",
    "age = Feature(input=input, transformer=transformer, name='Age')\n",
    "all_features.append(age)"
   ]
  },
  {
   "cell_type": "code",
   "execution_count": null,
   "metadata": {},
   "outputs": [],
   "source": [
    "input = ['Yr Sold']\n",
    "def calc_age(df):\n",
    "    return 2018 - df['Yr Sold']\n",
    "transformer = ballet.eng.SimpleFunctionTransformer(func=calc_age)\n",
    "age = Feature(input=input, transformer=transformer, name='Age')\n",
    "all_features.append(age)"
   ]
  }
 ],
 "metadata": {
  "kernelspec": {
   "display_name": "Python 3",
   "language": "python",
   "name": "python3"
  },
  "language_info": {
   "codemirror_mode": {
    "name": "ipython",
    "version": 3
   },
   "file_extension": ".py",
   "mimetype": "text/x-python",
   "name": "python",
   "nbconvert_exporter": "python",
   "pygments_lexer": "ipython3",
   "version": "3.6.5"
  }
 },
 "nbformat": 4,
 "nbformat_minor": 2
}
