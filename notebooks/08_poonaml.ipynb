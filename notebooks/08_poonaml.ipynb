{
 "cells": [
  {
   "cell_type": "code",
   "execution_count": 1,
   "metadata": {},
   "outputs": [
    {
     "data": {
      "text/plain": [
       "'0.4.1'"
      ]
     },
     "execution_count": 1,
     "metadata": {},
     "output_type": "execute_result"
    }
   ],
   "source": [
    "# taken from https://www.kaggle.com/poonaml/house-prices-data-exploration-and-visualisation\n",
    "# Adapted into the ballet framework\n",
    "# some features are not in her kernel but implied from her analyses\n",
    "import ballet\n",
    "import ballet.eng\n",
    "from ballet import Feature\n",
    "import numpy as np\n",
    "import pandas as pd\n",
    "import scipy\n",
    "import sklearn\n",
    "import sklearn_pandas\n",
    "from sklearn.model_selection import train_test_split\n",
    "ballet.__version__"
   ]
  },
  {
   "cell_type": "code",
   "execution_count": 62,
   "metadata": {},
   "outputs": [],
   "source": [
    "all_features = []"
   ]
  },
  {
   "cell_type": "code",
   "execution_count": 63,
   "metadata": {},
   "outputs": [],
   "source": [
    "input = ['Lot Area']\n",
    "def calc_sqrt(df):\n",
    "    return np.sqrt(df['Lot Area'])\n",
    "transformer = ballet.eng.SimpleFunctionTransformer(func=calc_sqrt)\n",
    "sqrt = Feature(input=input, transformer=transformer)\n",
    "all_features.append(sqrt)"
   ]
  },
  {
   "cell_type": "code",
   "execution_count": 64,
   "metadata": {},
   "outputs": [],
   "source": [
    "input = ['Lot Area', 'Lot Frontage']\n",
    "def fill_area(df):\n",
    "    mask = pd.isnull(df['Lot Frontage'])\n",
    "    df['Lot Frontage'][mask] = np.sqrt(df['Lot Area'])[mask]\n",
    "    return df['Lot Frontage']\n",
    "transformer = ballet.eng.SimpleFunctionTransformer(func=fill_area)\n",
    "area = Feature(input=input, transformer=transformer)\n",
    "all_features.append(area)"
   ]
  },
  {
   "cell_type": "code",
   "execution_count": 65,
   "metadata": {},
   "outputs": [],
   "source": [
    "input = ['Mas Vnr Type']\n",
    "transformer = [ballet.eng.missing.NullFiller(replacement=\"None\", isnull=pd.isnull), sklearn.preprocessing.OneHotEncoder()]\n",
    "misc_fill = Feature(input=input, transformer=transformer)\n",
    "all_features.append(misc_fill)"
   ]
  },
  {
   "cell_type": "code",
   "execution_count": 66,
   "metadata": {},
   "outputs": [],
   "source": [
    "input = ['Mas Vnr Area']\n",
    "transformer = ballet.eng.missing.NullFiller(isnull=pd.isnull)\n",
    "misc_fill = Feature(input=input, transformer=transformer)\n",
    "all_features.append(misc_fill)"
   ]
  },
  {
   "cell_type": "code",
   "execution_count": 67,
   "metadata": {},
   "outputs": [],
   "source": [
    "input = ['Electrical']\n",
    "def mode_filler(df):\n",
    "    df = df.copy()\n",
    "    return df.fillna(df.mode()['Electrical'][0])\n",
    "transformer = [ballet.eng.SimpleFunctionTransformer(func=mode_filler), sklearn.preprocessing.OneHotEncoder()]\n",
    "misc_fill = Feature(input=input, transformer=transformer)\n",
    "all_features.append(misc_fill)"
   ]
  },
  {
   "cell_type": "code",
   "execution_count": 68,
   "metadata": {},
   "outputs": [],
   "source": [
    "input = ['Alley']\n",
    "transformer = [ballet.eng.missing.NullFiller(replacement=\"None\", isnull=pd.isnull), sklearn.preprocessing.OneHotEncoder()]\n",
    "misc_fill = Feature(input=input, transformer=transformer, name='Alley Misc Fill')\n",
    "all_features.append(misc_fill)"
   ]
  },
  {
   "cell_type": "code",
   "execution_count": 69,
   "metadata": {},
   "outputs": [],
   "source": [
    "input = ['BsmtFin Type 1']\n",
    "transformer = [ballet.eng.missing.NullFiller(replacement=\"missing\", isnull=pd.isnull), sklearn.preprocessing.OneHotEncoder()]\n",
    "misc_fill = Feature(input=input, transformer=transformer)\n",
    "all_features.append(misc_fill)"
   ]
  },
  {
   "cell_type": "code",
   "execution_count": 70,
   "metadata": {},
   "outputs": [],
   "source": [
    "input = ['BsmtFin Type 2']\n",
    "transformer = [ballet.eng.missing.NullFiller(replacement=\"missing\", isnull=pd.isnull), sklearn.preprocessing.OneHotEncoder()]\n",
    "misc_fill = Feature(input=input, transformer=transformer)\n",
    "all_features.append(misc_fill)"
   ]
  },
  {
   "cell_type": "code",
   "execution_count": 71,
   "metadata": {},
   "outputs": [],
   "source": [
    "input = ['Bsmt Qual']\n",
    "def mode_filler(df):\n",
    "    df = df.copy()\n",
    "    return df.fillna(df.mode()['Bsmt Qual'][0])\n",
    "transformer = [ballet.eng.SimpleFunctionTransformer(func=mode_filler), sklearn.preprocessing.OneHotEncoder()]\n",
    "misc_fill = Feature(input=input, transformer=transformer)\n",
    "all_features.append(misc_fill)"
   ]
  },
  {
   "cell_type": "code",
   "execution_count": 72,
   "metadata": {},
   "outputs": [],
   "source": [
    "input = ['Bsmt Cond']\n",
    "def mode_filler(df):\n",
    "    df = df.copy()\n",
    "    return df.fillna(df.mode()['Bsmt Cond'][0])\n",
    "transformer = [ballet.eng.SimpleFunctionTransformer(func=mode_filler), sklearn.preprocessing.OneHotEncoder()]\n",
    "misc_fill = Feature(input=input, transformer=transformer)\n",
    "all_features.append(misc_fill)"
   ]
  },
  {
   "cell_type": "code",
   "execution_count": 73,
   "metadata": {},
   "outputs": [],
   "source": [
    "input = ['Fireplace Qu']\n",
    "transformer = [ballet.eng.missing.NullFiller(replacement=\"None\", isnull=pd.isnull), sklearn.preprocessing.OneHotEncoder()]\n",
    "misc_fill = Feature(input=input, transformer=transformer)\n",
    "all_features.append(misc_fill)"
   ]
  },
  {
   "cell_type": "code",
   "execution_count": 74,
   "metadata": {},
   "outputs": [],
   "source": [
    "input = ['Garage Cond']\n",
    "transformer = [ballet.eng.missing.NullFiller(replacement=\"None\", isnull=pd.isnull), sklearn.preprocessing.OneHotEncoder()]\n",
    "misc_fill = Feature(input=input, transformer=transformer)\n",
    "all_features.append(misc_fill)"
   ]
  },
  {
   "cell_type": "code",
   "execution_count": 75,
   "metadata": {},
   "outputs": [],
   "source": [
    "input = ['Garage Qual']\n",
    "transformer = [ballet.eng.missing.NullFiller(replacement=\"None\", isnull=pd.isnull), sklearn.preprocessing.OneHotEncoder()]\n",
    "misc_fill = Feature(input=input, transformer=transformer)\n",
    "all_features.append(misc_fill)"
   ]
  },
  {
   "cell_type": "code",
   "execution_count": 76,
   "metadata": {},
   "outputs": [],
   "source": [
    "input = ['Garage Type']\n",
    "transformer = [ballet.eng.missing.NullFiller(replacement=\"None\", isnull=pd.isnull), sklearn.preprocessing.OneHotEncoder()]\n",
    "misc_fill = Feature(input=input, transformer=transformer)\n",
    "all_features.append(misc_fill)"
   ]
  },
  {
   "cell_type": "code",
   "execution_count": 77,
   "metadata": {},
   "outputs": [],
   "source": [
    "input = ['Garage Finish']\n",
    "transformer = [ballet.eng.missing.NullFiller(replacement=\"None\", isnull=pd.isnull), sklearn.preprocessing.OneHotEncoder()]\n",
    "misc_fill = Feature(input=input, transformer=transformer)\n",
    "all_features.append(misc_fill)"
   ]
  },
  {
   "cell_type": "code",
   "execution_count": 78,
   "metadata": {},
   "outputs": [],
   "source": [
    "input = ['Garage Cars']\n",
    "transformer = ballet.eng.missing.NullFiller(isnull=pd.isnull)\n",
    "misc_fill = Feature(input=input, transformer=transformer)\n",
    "all_features.append(misc_fill)"
   ]
  },
  {
   "cell_type": "code",
   "execution_count": 79,
   "metadata": {},
   "outputs": [],
   "source": [
    "input = ['Garage Area']\n",
    "transformer = ballet.eng.missing.NullFiller(isnull=pd.isnull)\n",
    "misc_fill = Feature(input=input, transformer=transformer)\n",
    "all_features.append(misc_fill)"
   ]
  },
  {
   "cell_type": "code",
   "execution_count": 80,
   "metadata": {},
   "outputs": [],
   "source": [
    "input = ['Pool QC']\n",
    "transformer = [ballet.eng.missing.NullFiller(replacement=\"None\", isnull=pd.isnull), sklearn.preprocessing.OneHotEncoder()]\n",
    "misc_fill = Feature(input=input, transformer=transformer)\n",
    "all_features.append(misc_fill)"
   ]
  },
  {
   "cell_type": "code",
   "execution_count": 81,
   "metadata": {},
   "outputs": [],
   "source": [
    "input = ['Fence']\n",
    "transformer = [ballet.eng.missing.NullFiller(replacement=\"None\", isnull=pd.isnull), sklearn.preprocessing.OneHotEncoder()]\n",
    "misc_fill = Feature(input=input, transformer=transformer)\n",
    "all_features.append(misc_fill)"
   ]
  },
  {
   "cell_type": "code",
   "execution_count": 82,
   "metadata": {},
   "outputs": [],
   "source": [
    "input = ['Misc Feature']\n",
    "transformer = [ballet.eng.missing.NullFiller(replacement=\"missing\", isnull=pd.isnull), sklearn.preprocessing.OneHotEncoder()]\n",
    "misc_fill = Feature(input=input, transformer=transformer)\n",
    "all_features.append(misc_fill)"
   ]
  },
  {
   "cell_type": "code",
   "execution_count": 83,
   "metadata": {},
   "outputs": [],
   "source": [
    "def has_qual(df):\n",
    "    return (df['Fireplaces'] > 1) * 1\n",
    "input = ['Fireplaces']\n",
    "transformer = ballet.eng.SimpleFunctionTransformer(func=has_qual)\n",
    "qual = Feature(input=input, transformer=transformer)\n",
    "all_features.append(qual)"
   ]
  },
  {
   "cell_type": "code",
   "execution_count": 84,
   "metadata": {},
   "outputs": [],
   "source": [
    "def has_qual(df):\n",
    "    return (df['Fireplace Qu'] == \"Ex\") * 1\n",
    "input = ['Fireplace Qu']\n",
    "transformer = ballet.eng.SimpleFunctionTransformer(func=has_qual)\n",
    "qual = Feature(input=input, transformer=transformer)\n",
    "all_features.append(qual)"
   ]
  },
  {
   "cell_type": "code",
   "execution_count": 85,
   "metadata": {},
   "outputs": [],
   "source": [
    "def has_qual(df):\n",
    "    return (df['Misc Feature'] == \"TenC\") * 1\n",
    "input = ['Misc Feature']\n",
    "transformer = ballet.eng.SimpleFunctionTransformer(func=has_qual)\n",
    "qual = Feature(input=input, transformer=transformer)\n",
    "all_features.append(qual)"
   ]
  },
  {
   "cell_type": "code",
   "execution_count": 86,
   "metadata": {},
   "outputs": [],
   "source": [
    "def has_qual(df):\n",
    "    return (~pd.isnull(df['Pool QC'])) * 1\n",
    "input = ['Pool QC']\n",
    "transformer = ballet.eng.SimpleFunctionTransformer(func=has_qual)\n",
    "qual = Feature(input=input, transformer=transformer)\n",
    "all_features.append(qual)"
   ]
  },
  {
   "cell_type": "code",
   "execution_count": 87,
   "metadata": {},
   "outputs": [],
   "source": [
    "def load_ames():\n",
    "    '''Loads the Ames Housing dataset\n",
    "    \n",
    "    Source:\n",
    "    \n",
    "        Decock, Dean. \"Ames, Iowa: Alternative to the Boston Housing Data as an \n",
    "        End of Semester Regression Project.\"\n",
    "        <https://ww2.amstat.org/publications/jse/v19n3/decock.pdf>\n",
    "    '''\n",
    "    source = 'https://s3.amazonaws.com/mit-dai-ballet/ames/AmesHousing.txt'\n",
    "    df = pd.read_table(source)\n",
    "    X = df.drop('SalePrice', axis=1)\n",
    "    y = df['SalePrice']\n",
    "    return X, y"
   ]
  },
  {
   "cell_type": "code",
   "execution_count": 88,
   "metadata": {},
   "outputs": [],
   "source": [
    "X, y = load_ames()\n",
    "# X.columns.values.tolist()"
   ]
  },
  {
   "cell_type": "code",
   "execution_count": 89,
   "metadata": {},
   "outputs": [],
   "source": [
    "X_tr, X_te, y_tr, y_te = train_test_split(X, y, random_state=3)"
   ]
  },
  {
   "cell_type": "code",
   "execution_count": 90,
   "metadata": {},
   "outputs": [
    {
     "data": {
      "text/plain": [
       "DataFrameMapper(default=False, df_out=False,\n",
       "        features=[(['Lot Area'], SimpleFunctionTransformer(func=<function calc_sqrt at 0x1133dad90>,\n",
       "             func_args=(), func_kwargs={})), (['Lot Area', 'Lot Frontage'], SimpleFunctionTransformer(func=<function fill_area at 0x113d79158>,\n",
       "             func_args=(), func_kwargs={})), (['Mas Vnr Type'],...ionTransformer(func=<function has_qual at 0x1146b6378>,\n",
       "             func_args=(), func_kwargs={}))],\n",
       "        input_df=True, sparse=False)"
      ]
     },
     "execution_count": 90,
     "metadata": {},
     "output_type": "execute_result"
    }
   ],
   "source": [
    "mapper = ballet.make_mapper(all_features)\n",
    "mapper.fit(X_tr, y_tr)"
   ]
  },
  {
   "cell_type": "code",
   "execution_count": 91,
   "metadata": {},
   "outputs": [
    {
     "name": "stderr",
     "output_type": "stream",
     "text": [
      "/usr/local/lib/python3.6/site-packages/ipykernel_launcher.py:4: SettingWithCopyWarning: \n",
      "A value is trying to be set on a copy of a slice from a DataFrame\n",
      "\n",
      "See the caveats in the documentation: http://pandas.pydata.org/pandas-docs/stable/indexing.html#indexing-view-versus-copy\n",
      "  after removing the cwd from sys.path.\n",
      "/usr/local/lib/python3.6/site-packages/pandas/core/generic.py:5984: SettingWithCopyWarning: \n",
      "A value is trying to be set on a copy of a slice from a DataFrame\n",
      "\n",
      "See the caveats in the documentation: http://pandas.pydata.org/pandas-docs/stable/indexing.html#indexing-view-versus-copy\n",
      "  self._update_inplace(new_data)\n",
      "/usr/local/lib/python3.6/site-packages/funcy/funcs.py:36: SettingWithCopyWarning: \n",
      "A value is trying to be set on a copy of a slice from a DataFrame\n",
      "\n",
      "See the caveats in the documentation: http://pandas.pydata.org/pandas-docs/stable/indexing.html#indexing-view-versus-copy\n",
      "  return lambda *a: func(*(a + args))\n"
     ]
    },
    {
     "data": {
      "text/plain": [
       "array([[  86.01744009,   66.        ,    0.        , ...,    0.        ,\n",
       "           0.        ,    0.        ],\n",
       "       [  44.19275959,   21.        ,    0.        , ...,    0.        ,\n",
       "           0.        ,    0.        ],\n",
       "       [ 108.62780491,   97.        ,    0.        , ...,    0.        ,\n",
       "           0.        ,    0.        ],\n",
       "       ..., \n",
       "       [  98.78258956,   61.        ,    0.        , ...,    0.        ,\n",
       "           0.        ,    0.        ],\n",
       "       [ 109.93179704,   93.        ,    0.        , ...,    0.        ,\n",
       "           0.        ,    0.        ],\n",
       "       [  99.2068546 ,   70.        ,    0.        , ...,    0.        ,\n",
       "           0.        ,    0.        ]])"
      ]
     },
     "execution_count": 91,
     "metadata": {},
     "output_type": "execute_result"
    }
   ],
   "source": [
    "mapper.transform(X_tr)"
   ]
  },
  {
   "cell_type": "code",
   "execution_count": null,
   "metadata": {},
   "outputs": [],
   "source": []
  }
 ],
 "metadata": {
  "kernelspec": {
   "display_name": "Python 3",
   "language": "python",
   "name": "python3"
  },
  "language_info": {
   "codemirror_mode": {
    "name": "ipython",
    "version": 3
   },
   "file_extension": ".py",
   "mimetype": "text/x-python",
   "name": "python",
   "nbconvert_exporter": "python",
   "pygments_lexer": "ipython3",
   "version": "3.6.5"
  }
 },
 "nbformat": 4,
 "nbformat_minor": 2
}
