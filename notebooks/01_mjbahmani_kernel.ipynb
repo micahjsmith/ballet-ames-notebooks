{
 "cells": [
  {
   "cell_type": "code",
   "execution_count": null,
   "metadata": {},
   "outputs": [],
   "source": [
    "# taken from https://www.kaggle.com/mjbahmani/a-comprehensive-ml-workflow-for-house-prices\n",
    "# Adapted into the ballet framework\n",
    "import ballet\n",
    "import ballet.eng\n",
    "from ballet import Feature\n",
    "import numpy as np\n",
    "import pandas as pd\n",
    "import sklearn\n",
    "import sklearn_pandas\n",
    "from sklearn.model_selection import train_test_split\n",
    "\n",
    "ballet.__version__"
   ]
  },
  {
   "cell_type": "code",
   "execution_count": null,
   "metadata": {},
   "outputs": [],
   "source": [
    "def load_ames():\n",
    "    '''Loads the Ames Housing dataset\n",
    "    \n",
    "    Source:\n",
    "    \n",
    "        Decock, Dean. \"Ames, Iowa: Alternative to the Boston Housing Data as an \n",
    "        End of Semester Regression Project.\"\n",
    "        <https://ww2.amstat.org/publications/jse/v19n3/decock.pdf>\n",
    "    '''\n",
    "    source = 'https://s3.amazonaws.com/mit-dai-ballet/ames/AmesHousing.txt'\n",
    "    df = pd.read_table(source)\n",
    "    X = df.drop('SalePrice', axis=1)\n",
    "    y = df['SalePrice']\n",
    "    return X, y"
   ]
  },
  {
   "cell_type": "code",
   "execution_count": null,
   "metadata": {},
   "outputs": [],
   "source": [
    "X, y = load_ames()"
   ]
  },
  {
   "cell_type": "code",
   "execution_count": null,
   "metadata": {},
   "outputs": [],
   "source": [
    "X_tr, X_te, y_tr, y_te = train_test_split(X, y, random_state=3)"
   ]
  },
  {
   "cell_type": "code",
   "execution_count": null,
   "metadata": {},
   "outputs": [],
   "source": [
    "# reset the feature set\n",
    "all_features = []"
   ]
  },
  {
   "cell_type": "code",
   "execution_count": null,
   "metadata": {},
   "outputs": [],
   "source": [
    "# LotFrontage : Since the area of each street connected to the house property most\n",
    "# likely have a similar area to other houses in its neighborhood , we can fill in\n",
    "# missing values by the median LotFrontage of the neighborhood.\n",
    "\n",
    "input = ['Lot Frontage', 'Neighborhood']\n",
    "def impute_lot_frontage(df):\n",
    "    frontage = df['Lot Frontage']\n",
    "    return frontage.fillna(frontage.median())\n",
    "transformer = ballet.eng.GroupedFunctionTransformer(func=impute_lot_frontage, groupby_kwargs={'by': 'Neighborhood'})\n",
    "frontage_feature = Feature(input=input, transformer=[transformer, sklearn.preprocessing.OneHotEncoder()],  name='Lot Frontage Fill')\n",
    "all_features.append(frontage_feature)"
   ]
  },
  {
   "cell_type": "code",
   "execution_count": null,
   "metadata": {},
   "outputs": [],
   "source": [
    "# PoolQC : data description says NA means \"No Pool\". \n",
    "# That make sense, given the huge ratio of missing value (+99%) \n",
    "# and majority of houses have no Pool at all in general.\n",
    "input = ['PoolQC']\n",
    "transformer = [ballet.eng.missing.NullFiller(replacement=\"None\"), sklearn.preprocessing.OneHotEncoder()]\n",
    "misc_fill = Feature(input=input, transformer=transformer, name='PoolQC Misc Fill')\n",
    "all_features.append(misc_fill)"
   ]
  },
  {
   "cell_type": "code",
   "execution_count": null,
   "metadata": {},
   "outputs": [],
   "source": [
    "input = ['MiscFeature']\n",
    "transformer = [ballet.eng.missing.NullFiller(replacement=\"None\"), sklearn.preprocessing.OneHotEncoder()]\n",
    "misc_fill = Feature(input=input, transformer=transformer, name='PoolQC Misc Fill')\n",
    "all_features.append(misc_fill)"
   ]
  },
  {
   "cell_type": "code",
   "execution_count": null,
   "metadata": {},
   "outputs": [],
   "source": [
    "input = ['Alley']\n",
    "transformer = [ballet.eng.missing.NullFiller(replacement=\"None\"), sklearn.preprocessing.OneHotEncoder()]\n",
    "misc_fill = Feature(input=input, transformer=transformer, name='Alley Misc Fill')\n",
    "all_features.append(misc_fill)"
   ]
  },
  {
   "cell_type": "code",
   "execution_count": null,
   "metadata": {},
   "outputs": [],
   "source": [
    "input = ['Fence']\n",
    "transformer = [ballet.eng.missing.NullFiller(replacement=\"None\"), sklearn.preprocessing.OneHotEncoder()]\n",
    "misc_fill = Feature(input=input, transformer=transformer, name='Fence Misc Fill')\n",
    "all_features.append(misc_fill)"
   ]
  },
  {
   "cell_type": "code",
   "execution_count": null,
   "metadata": {},
   "outputs": [],
   "source": [
    "# PoolQC : data description says NA means \"No Pool\". \n",
    "# That make sense, given the huge ratio of missing value (+99%) \n",
    "# and majority of houses have no Pool at all in general.\n",
    "input = ['GarageType']\n",
    "transformer = [ballet.eng.missing.NullFiller(replacement=\"None\"), sklearn.preprocessing.OneHotEncoder()]\n",
    "garage_none_fill = Feature(input=input, transformer=transformer, name='Garage Missing Fill None')\n",
    "all_features.append(garage_none_fill)"
   ]
  },
  {
   "cell_type": "code",
   "execution_count": null,
   "metadata": {},
   "outputs": [],
   "source": [
    "# PoolQC : data description says NA means \"No Pool\". \n",
    "# That make sense, given the huge ratio of missing value (+99%) \n",
    "# and majority of houses have no Pool at all in general.\n",
    "input = ['GarageFinish']\n",
    "transformer = [ballet.eng.missing.NullFiller(replacement=\"None\"), sklearn.preprocessing.OneHotEncoder()]\n",
    "garage_none_fill = Feature(input=input, transformer=transformer, name='Garage Missing Fill None')\n",
    "all_features.append(garage_none_fill)"
   ]
  },
  {
   "cell_type": "code",
   "execution_count": null,
   "metadata": {},
   "outputs": [],
   "source": [
    "# PoolQC : data description says NA means \"No Pool\". \n",
    "# That make sense, given the huge ratio of missing value (+99%) \n",
    "# and majority of houses have no Pool at all in general.\n",
    "input = ['GarageQual']\n",
    "transformer = [ballet.eng.missing.NullFiller(replacement=\"None\"), sklearn.preprocessing.OneHotEncoder()]\n",
    "garage_none_fill = Feature(input=input, transformer=transformer, name='Garage Missing Fill None')\n",
    "all_features.append(garage_none_fill)"
   ]
  },
  {
   "cell_type": "code",
   "execution_count": null,
   "metadata": {},
   "outputs": [],
   "source": [
    "# PoolQC : data description says NA means \"No Pool\". \n",
    "# That make sense, given the huge ratio of missing value (+99%) \n",
    "# and majority of houses have no Pool at all in general.\n",
    "input = ['GarageCond']\n",
    "transformer = [ballet.eng.missing.NullFiller(replacement=\"None\"), sklearn.preprocessing.OneHotEncoder()]\n",
    "garage_none_fill = Feature(input=input, transformer=transformer, name='Garage Missing Fill None')\n",
    "all_features.append(garage_none_fill)"
   ]
  },
  {
   "cell_type": "code",
   "execution_count": null,
   "metadata": {},
   "outputs": [],
   "source": [
    "# BsmtFinSF1, BsmtFinSF2, BsmtUnfSF, TotalBsmtSF, BsmtFullBath and BsmtHalfBath :\n",
    "# missing values are likely zero for having no basement\n",
    "\n",
    "input = ['BsmtFinSF1']\n",
    "transformer = ballet.eng.missing.NullFiller()\n",
    "basement_fill = Feature(input=input, transformer=transformer, name='Basement Fill None')\n",
    "all_features.append(basement_fill)"
   ]
  },
  {
   "cell_type": "code",
   "execution_count": null,
   "metadata": {},
   "outputs": [],
   "source": [
    "# BsmtFinSF1, BsmtFinSF2, BsmtUnfSF, TotalBsmtSF, BsmtFullBath and BsmtHalfBath :\n",
    "# missing values are likely zero for having no basement\n",
    "\n",
    "input = ['BsmtFinSF2']\n",
    "transformer = ballet.eng.missing.NullFiller()\n",
    "basement_fill = Feature(input=input, transformer=transformer, name='Missing Fill None')\n",
    "all_features.append(basement_fill)"
   ]
  },
  {
   "cell_type": "code",
   "execution_count": null,
   "metadata": {},
   "outputs": [],
   "source": [
    "# BsmtFinSF1, BsmtFinSF2, BsmtUnfSF, TotalBsmtSF, BsmtFullBath and BsmtHalfBath :\n",
    "# missing values are likely zero for having no basement\n",
    "\n",
    "input = ['BsmtUnfSF']\n",
    "transformer = ballet.eng.missing.NullFiller()\n",
    "basement_fill = Feature(input=input, transformer=transformer, name='Missing Fill None')\n",
    "all_features.append(basement_fill)"
   ]
  },
  {
   "cell_type": "code",
   "execution_count": null,
   "metadata": {},
   "outputs": [],
   "source": [
    "# BsmtFinSF1, BsmtFinSF2, BsmtUnfSF, TotalBsmtSF, BsmtFullBath and BsmtHalfBath :\n",
    "# missing values are likely zero for having no basement\n",
    "\n",
    "input = ['TotalBsmtSF']\n",
    "transformer = ballet.eng.missing.NullFiller()\n",
    "basement_fill = Feature(input=input, transformer=transformer, name='Missing Fill None')\n",
    "all_features.append(basement_fill)"
   ]
  },
  {
   "cell_type": "code",
   "execution_count": null,
   "metadata": {},
   "outputs": [],
   "source": [
    "# BsmtFinSF1, BsmtFinSF2, BsmtUnfSF, TotalBsmtSF, BsmtFullBath and BsmtHalfBath :\n",
    "# missing values are likely zero for having no basement\n",
    "\n",
    "input = ['BsmtFullBath']\n",
    "transformer = ballet.eng.missing.NullFiller()\n",
    "basement_fill = Feature(input=input, transformer=transformer, name='Missing Fill None')\n",
    "all_features.append(basement_fill)"
   ]
  },
  {
   "cell_type": "code",
   "execution_count": null,
   "metadata": {},
   "outputs": [],
   "source": [
    "# BsmtFinSF1, BsmtFinSF2, BsmtUnfSF, TotalBsmtSF, BsmtFullBath and BsmtHalfBath :\n",
    "# missing values are likely zero for having no basement\n",
    "\n",
    "input = ['BsmtHalfBath']\n",
    "transformer = ballet.eng.missing.NullFiller()\n",
    "basement_fill = Feature(input=input, transformer=transformer, name='Missing Fill None')\n",
    "all_features.append(basement_fill)"
   ]
  },
  {
   "cell_type": "code",
   "execution_count": null,
   "metadata": {},
   "outputs": [],
   "source": [
    "input = ['MasVnrType']\n",
    "transformer = [ballet.eng.missing.NullFiller(replacement=\"None\"), sklearn.preprocessing.OneHotEncoder()]\n",
    "mason_fill = Feature(input=input, transformer=transformer, name='Mason Fill None')\n",
    "all_features.append(mason_fill)"
   ]
  },
  {
   "cell_type": "code",
   "execution_count": null,
   "metadata": {},
   "outputs": [],
   "source": [
    "input = ['MasVnrArea']\n",
    "transformer = ballet.eng.missing.NullFiller()\n",
    "mason_fill = Feature(input=input, transformer=transformer, name='Mason Fill Zero')\n",
    "all_features.append(mason_fill)"
   ]
  },
  {
   "cell_type": "code",
   "execution_count": null,
   "metadata": {},
   "outputs": [],
   "source": [
    "input = ['MSSubClass']\n",
    "transformer = [ballet.eng.missing.NullFiller(replacement=\"None\"), sklearn.preprocessing.OneHotEncoder()]\n",
    "ms_fill = Feature(input=input, transformer=transformer, name='MS Fill None')\n",
    "all_features.append(ms_fill)"
   ]
  },
  {
   "cell_type": "code",
   "execution_count": null,
   "metadata": {},
   "outputs": [],
   "source": [
    "input = ['FireplaceQu']\n",
    "transformer = ballet.eng.missing.NullFiller(replacement=\"None\")\n",
    "fill = Feature(input=input, transformer=transformer, name='FireplaceQu Fill Zero')\n",
    "all_features.append(fill)"
   ]
  },
  {
   "cell_type": "code",
   "execution_count": null,
   "metadata": {},
   "outputs": [],
   "source": [
    "input = ['TotalBsmtSF', '1stFlrSF', '2ndFlrSF']\n",
    "def add_areas(df):\n",
    "    return df['TotalBsmtSF'] + df['1stFlrSF'] + df['2ndFlrSF']\n",
    "transformer = ballet.eng.SimpleFunctionTransformer(func=add_areas)\n",
    "total_area = Feature(input=input, transformer=transformer, name='Total Area Calculation')\n",
    "all_features.append(total_area)"
   ]
  },
  {
   "cell_type": "code",
   "execution_count": null,
   "metadata": {},
   "outputs": [],
   "source": [
    "input = ['MoSold']\n",
    "month = Feature(input=input, transformer=sklearn.preprocessing.OneHotEncoder(), name='Month Categorical')\n",
    "all_features.append(month)"
   ]
  },
  {
   "cell_type": "code",
   "execution_count": null,
   "metadata": {},
   "outputs": [],
   "source": [
    "input = ['YrSold']\n",
    "year = Feature(input=input, transformer=sklearn.preprocessing.OneHotEncoder(), name='Year Categorical')\n",
    "all_features.append(year)"
   ]
  },
  {
   "cell_type": "code",
   "execution_count": null,
   "metadata": {},
   "outputs": [],
   "source": [
    "mapper = ballet.make_mapper(all_features)\n",
    "mapper.fit(X_tr, y_tr)"
   ]
  },
  {
   "cell_type": "code",
   "execution_count": null,
   "metadata": {},
   "outputs": [],
   "source": []
  }
 ],
 "metadata": {
  "kernelspec": {
   "display_name": "Python 3",
   "language": "python",
   "name": "python3"
  },
  "language_info": {
   "codemirror_mode": {
    "name": "ipython",
    "version": 3
   },
   "file_extension": ".py",
   "mimetype": "text/x-python",
   "name": "python",
   "nbconvert_exporter": "python",
   "pygments_lexer": "ipython3",
   "version": "3.6.5"
  }
 },
 "nbformat": 4,
 "nbformat_minor": 2
}
