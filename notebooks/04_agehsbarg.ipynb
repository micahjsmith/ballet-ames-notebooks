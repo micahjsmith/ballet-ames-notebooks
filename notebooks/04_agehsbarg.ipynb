{
 "cells": [
  {
   "cell_type": "code",
   "execution_count": 2,
   "metadata": {},
   "outputs": [
    {
     "data": {
      "text/plain": [
       "'0.4.1'"
      ]
     },
     "execution_count": 2,
     "metadata": {},
     "output_type": "execute_result"
    }
   ],
   "source": [
    "# taken from https://www.kaggle.com/agehsbarg/top-10-0-10943-stacking-mice-and-brutal-force\n",
    "# Adapted into the ballet framework\n",
    "import ballet\n",
    "import ballet.eng\n",
    "from ballet import Feature\n",
    "import numpy as np\n",
    "import pandas as pd\n",
    "import sklearn\n",
    "import sklearn_pandas\n",
    "from sklearn.model_selection import train_test_split\n",
    "\n",
    "ballet.__version__"
   ]
  },
  {
   "cell_type": "code",
   "execution_count": 3,
   "metadata": {},
   "outputs": [],
   "source": [
    "all_features = []"
   ]
  },
  {
   "cell_type": "code",
   "execution_count": 4,
   "metadata": {},
   "outputs": [],
   "source": [
    "input = ['Total Bsmt SF', '1st Flr SF', '2nd Flr SF']\n",
    "def add_areas(df):\n",
    "    return df['Total Bsmt SF'] + df['1st Flr SF'] + df['2nd Flr SF']\n",
    "transformer = ballet.eng.SimpleFunctionTransformer(func=add_areas)\n",
    "total_area = Feature(input=input, transformer=transformer, name='Total Area Calculation')\n",
    "all_features.append(total_area)"
   ]
  },
  {
   "cell_type": "code",
   "execution_count": 5,
   "metadata": {},
   "outputs": [],
   "source": [
    "input = ['Yr Sold', 'Year Remod/Add']\n",
    "def calc_age(df):\n",
    "    return df['Yr Sold'] - df['Year/Remod Add']\n",
    "transformer = ballet.eng.SimpleFunctionTransformer(func=calc_age)\n",
    "age = Feature(input=input, transformer=transformer, name='Age')\n",
    "all_features.append(age)"
   ]
  },
  {
   "cell_type": "code",
   "execution_count": 6,
   "metadata": {},
   "outputs": [],
   "source": [
    "input = ['Overall Qual', 'Overall Cond']\n",
    "def calc_qual(df):\n",
    "    return df['Overall Qual'] - df['Overall Cond']\n",
    "transformer = ballet.eng.SimpleFunctionTransformer(func=calc_qual)\n",
    "qual = Feature(input=input, transformer=transformer, name='Qual')\n",
    "all_features.append(qual)"
   ]
  },
  {
   "cell_type": "code",
   "execution_count": 7,
   "metadata": {},
   "outputs": [],
   "source": [
    "def has_qual(df):\n",
    "    return (df['Open Porch SF'] != 0) * 1\n",
    "input = ['Open Porch SF']\n",
    "transformer = ballet.eng.SimpleFunctionTransformer(func=has_qual)\n",
    "qual = Feature(input=input, transformer=transformer)\n",
    "all_features.append(qual)"
   ]
  },
  {
   "cell_type": "code",
   "execution_count": 8,
   "metadata": {},
   "outputs": [],
   "source": [
    "def has_qual(df):\n",
    "    return (df['Enclosed Porch'] != 0) * 1\n",
    "input = ['Enclosed Porch']\n",
    "transformer = ballet.eng.SimpleFunctionTransformer(func=has_qual)\n",
    "qual = Feature(input=input, transformer=transformer)\n",
    "all_features.append(qual)"
   ]
  },
  {
   "cell_type": "code",
   "execution_count": 9,
   "metadata": {},
   "outputs": [],
   "source": [
    "def has_qual(df):\n",
    "    return (df['3Ssn Porch'] != 0) * 1\n",
    "input = ['3Ssn Porch']\n",
    "transformer = ballet.eng.SimpleFunctionTransformer(func=has_qual)\n",
    "qual = Feature(input=input, transformer=transformer)\n",
    "all_features.append(qual)"
   ]
  },
  {
   "cell_type": "code",
   "execution_count": 10,
   "metadata": {},
   "outputs": [],
   "source": [
    "def has_qual(df):\n",
    "    return (df['Screen Porch'] != 0) * 1\n",
    "input = ['Screen Porch']\n",
    "transformer = ballet.eng.SimpleFunctionTransformer(func=has_qual)\n",
    "qual = Feature(input=input, transformer=transformer)\n",
    "all_features.append(qual)"
   ]
  },
  {
   "cell_type": "code",
   "execution_count": 11,
   "metadata": {},
   "outputs": [],
   "source": [
    "input = ['Alley']\n",
    "transformer = [ballet.eng.missing.NullFiller(replacement=\"missing\"), sklearn.preprocessing.OneHotEncoder()]\n",
    "misc_fill = Feature(input=input, transformer=transformer, name='Alley Misc Fill')\n",
    "all_features.append(misc_fill)"
   ]
  },
  {
   "cell_type": "code",
   "execution_count": 12,
   "metadata": {},
   "outputs": [],
   "source": [
    "input = ['Land Slope']\n",
    "transformer = [ballet.eng.missing.NullFiller(replacement=\"None\"), sklearn.preprocessing.OneHotEncoder()]\n",
    "misc_fill = Feature(input=input, transformer=transformer)\n",
    "all_features.append(misc_fill)"
   ]
  },
  {
   "cell_type": "code",
   "execution_count": 13,
   "metadata": {},
   "outputs": [],
   "source": [
    "input = ['Mas Vnr Type']\n",
    "transformer = [ballet.eng.missing.NullFiller(replacement=\"None\"), sklearn.preprocessing.OneHotEncoder()]\n",
    "misc_fill = Feature(input=input, transformer=transformer)\n",
    "all_features.append(misc_fill)"
   ]
  },
  {
   "cell_type": "code",
   "execution_count": 14,
   "metadata": {},
   "outputs": [],
   "source": [
    "input = ['Garage Type']\n",
    "transformer = [ballet.eng.missing.NullFiller(replacement=\"missing\"), sklearn.preprocessing.OneHotEncoder()]\n",
    "misc_fill = Feature(input=input, transformer=transformer)\n",
    "all_features.append(misc_fill)"
   ]
  },
  {
   "cell_type": "code",
   "execution_count": 15,
   "metadata": {},
   "outputs": [],
   "source": [
    "input = ['Garage Cond']\n",
    "transformer = [ballet.eng.missing.NullFiller(replacement=\"missing\"), sklearn.preprocessing.OneHotEncoder()]\n",
    "misc_fill = Feature(input=input, transformer=transformer)\n",
    "all_features.append(misc_fill)"
   ]
  },
  {
   "cell_type": "code",
   "execution_count": 16,
   "metadata": {},
   "outputs": [],
   "source": [
    "input = ['Fence']\n",
    "transformer = [ballet.eng.missing.NullFiller(replacement=\"missing\"), sklearn.preprocessing.OneHotEncoder()]\n",
    "misc_fill = Feature(input=input, transformer=transformer)\n",
    "all_features.append(misc_fill)"
   ]
  },
  {
   "cell_type": "code",
   "execution_count": 17,
   "metadata": {},
   "outputs": [],
   "source": [
    "input = ['Street']\n",
    "transformer = [ballet.eng.missing.NullFiller(replacement=\"missing\"), sklearn.preprocessing.OneHotEncoder()]\n",
    "misc_fill = Feature(input=input, transformer=transformer)\n",
    "all_features.append(misc_fill)"
   ]
  },
  {
   "cell_type": "code",
   "execution_count": 18,
   "metadata": {},
   "outputs": [],
   "source": [
    "input = ['Lot Shape']\n",
    "transformer = [ballet.eng.missing.NullFiller(replacement=\"missing\"), sklearn.preprocessing.OneHotEncoder()]\n",
    "misc_fill = Feature(input=input, transformer=transformer)\n",
    "all_features.append(misc_fill)"
   ]
  },
  {
   "cell_type": "code",
   "execution_count": 19,
   "metadata": {},
   "outputs": [],
   "source": [
    "input = ['Land Contour']\n",
    "transformer = [ballet.eng.missing.NullFiller(replacement=\"missing\"), sklearn.preprocessing.OneHotEncoder()]\n",
    "misc_fill = Feature(input=input, transformer=transformer)\n",
    "all_features.append(misc_fill)"
   ]
  },
  {
   "cell_type": "code",
   "execution_count": 20,
   "metadata": {},
   "outputs": [],
   "source": [
    "input = ['BsmtFin Type 1']\n",
    "transformer = [ballet.eng.missing.NullFiller(replacement=\"missing\"), sklearn.preprocessing.OneHotEncoder()]\n",
    "misc_fill = Feature(input=input, transformer=transformer)\n",
    "all_features.append(misc_fill)"
   ]
  },
  {
   "cell_type": "code",
   "execution_count": 21,
   "metadata": {},
   "outputs": [],
   "source": [
    "input = ['BsmtFin Type 2']\n",
    "transformer = [ballet.eng.missing.NullFiller(replacement=\"missing\"), sklearn.preprocessing.OneHotEncoder()]\n",
    "misc_fill = Feature(input=input, transformer=transformer)\n",
    "all_features.append(misc_fill)"
   ]
  },
  {
   "cell_type": "code",
   "execution_count": 22,
   "metadata": {},
   "outputs": [],
   "source": [
    "input = ['Central Air']\n",
    "transformer = [ballet.eng.missing.NullFiller(replacement=\"missing\"), sklearn.preprocessing.OneHotEncoder()]\n",
    "misc_fill = Feature(input=input, transformer=transformer)\n",
    "all_features.append(misc_fill)"
   ]
  },
  {
   "cell_type": "code",
   "execution_count": 23,
   "metadata": {},
   "outputs": [],
   "source": [
    "input = ['Misc Feature']\n",
    "transformer = [ballet.eng.missing.NullFiller(replacement=\"missing\"), sklearn.preprocessing.OneHotEncoder()]\n",
    "misc_fill = Feature(input=input, transformer=transformer)\n",
    "all_features.append(misc_fill)"
   ]
  },
  {
   "cell_type": "code",
   "execution_count": 25,
   "metadata": {},
   "outputs": [],
   "source": [
    "input = ['Utilities']\n",
    "transformer = [ballet.eng.missing.NullFiller(replacement=\"missing\"), sklearn.preprocessing.OneHotEncoder()]\n",
    "misc_fill = Feature(input=input, transformer=transformer)\n",
    "all_features.append(misc_fill)"
   ]
  },
  {
   "cell_type": "code",
   "execution_count": 26,
   "metadata": {},
   "outputs": [],
   "source": [
    "input = ['Functional']\n",
    "transformer = [ballet.eng.missing.NullFiller(replacement=\"Typ\"), sklearn.preprocessing.OneHotEncoder()]\n",
    "misc_fill = Feature(input=input, transformer=transformer)\n",
    "all_features.append(misc_fill)"
   ]
  },
  {
   "cell_type": "code",
   "execution_count": 27,
   "metadata": {},
   "outputs": [],
   "source": [
    "input = ['Sale Condition']\n",
    "transformer = [ballet.eng.missing.NullFiller(replacement=\"Typ\"), sklearn.preprocessing.OneHotEncoder()]\n",
    "misc_fill = Feature(input=input, transformer=transformer)\n",
    "all_features.append(misc_fill)"
   ]
  },
  {
   "cell_type": "code",
   "execution_count": 30,
   "metadata": {},
   "outputs": [],
   "source": [
    "input = ['Pool QC']\n",
    "def mode_filler(df):\n",
    "    df = df.copy()\n",
    "    return df['Pool QC'].fillna(df['Pool QC'].mode()[0])\n",
    "transformer = [ballet.eng.SimpleFunctionTransformer(func=mode_filler), sklearn.preprocessing.OneHotEncoder()]\n",
    "misc_fill = Feature(input=input, transformer=transformer)\n",
    "all_features.append(misc_fill)"
   ]
  },
  {
   "cell_type": "code",
   "execution_count": 31,
   "metadata": {},
   "outputs": [],
   "source": [
    "input = ['Bsmt Qual']\n",
    "def mode_filler(df):\n",
    "    df = df.copy()\n",
    "    return df['Bsmt Qual'].fillna(df['Bsmt Qual'].mode()[0])\n",
    "transformer = [ballet.eng.SimpleFunctionTransformer(func=mode_filler), sklearn.preprocessing.OneHotEncoder()]\n",
    "misc_fill = Feature(input=input, transformer=transformer)\n",
    "all_features.append(misc_fill)"
   ]
  },
  {
   "cell_type": "code",
   "execution_count": 32,
   "metadata": {},
   "outputs": [],
   "source": [
    "input = ['Bsmt Cond']\n",
    "def mode_filler(df):\n",
    "    df = df.copy()\n",
    "    return df['Bsmt Cond'].fillna(df['Bsmt Cond'].mode()[0])\n",
    "transformer = [ballet.eng.SimpleFunctionTransformer(func=mode_filler), sklearn.preprocessing.OneHotEncoder()]\n",
    "misc_fill = Feature(input=input, transformer=transformer)\n",
    "all_features.append(misc_fill)"
   ]
  },
  {
   "cell_type": "code",
   "execution_count": 33,
   "metadata": {},
   "outputs": [],
   "source": [
    "input = ['Fireplace Qu']\n",
    "def mode_filler(df):\n",
    "    df = df.copy()\n",
    "    return df['Fireplace Qu'].fillna(df['Fireplace Qu'].mode()[0])\n",
    "transformer = [ballet.eng.SimpleFunctionTransformer(func=mode_filler), sklearn.preprocessing.OneHotEncoder()]\n",
    "misc_fill = Feature(input=input, transformer=transformer)\n",
    "all_features.append(misc_fill)"
   ]
  },
  {
   "cell_type": "code",
   "execution_count": 34,
   "metadata": {},
   "outputs": [],
   "source": [
    "input = ['Garage Finish']\n",
    "def mode_filler(df):\n",
    "    df = df.copy()\n",
    "    return df['Garage Finish'].fillna(df['Garage Finish'].mode()[0])\n",
    "transformer = [ballet.eng.SimpleFunctionTransformer(func=mode_filler), sklearn.preprocessing.OneHotEncoder()]\n",
    "misc_fill = Feature(input=input, transformer=transformer)\n",
    "all_features.append(misc_fill)"
   ]
  },
  {
   "cell_type": "code",
   "execution_count": 35,
   "metadata": {},
   "outputs": [],
   "source": [
    "input = ['Garage Qual']\n",
    "def mode_filler(df):\n",
    "    df = df.copy()\n",
    "    return df['Garage Qual'].fillna(df['Garage Qual'].mode()[0])\n",
    "transformer = [ballet.eng.SimpleFunctionTransformer(func=mode_filler), sklearn.preprocessing.OneHotEncoder()]\n",
    "misc_fill = Feature(input=input, transformer=transformer)\n",
    "all_features.append(misc_fill)"
   ]
  },
  {
   "cell_type": "code",
   "execution_count": 36,
   "metadata": {},
   "outputs": [],
   "source": [
    "input = ['Bsmt Exposure']\n",
    "def mode_filler(df):\n",
    "    df = df.copy()\n",
    "    return df['Bsmt Exposure'].fillna(df['Bsmt Exposure'].mode()[0])\n",
    "transformer = [ballet.eng.SimpleFunctionTransformer(func=mode_filler), sklearn.preprocessing.OneHotEncoder()]\n",
    "misc_fill = Feature(input=input, transformer=transformer)\n",
    "all_features.append(misc_fill)"
   ]
  },
  {
   "cell_type": "code",
   "execution_count": 37,
   "metadata": {},
   "outputs": [],
   "source": [
    "input = ['Electrical']\n",
    "def mode_filler(df):\n",
    "    df = df.copy()\n",
    "    return df['Electrical'].fillna(df['Electrical'].mode()[0])\n",
    "transformer = [ballet.eng.SimpleFunctionTransformer(func=mode_filler), sklearn.preprocessing.OneHotEncoder()]\n",
    "misc_fill = Feature(input=input, transformer=transformer)\n",
    "all_features.append(misc_fill)"
   ]
  },
  {
   "cell_type": "code",
   "execution_count": 38,
   "metadata": {},
   "outputs": [],
   "source": [
    "input = ['MS Zoning']\n",
    "def mode_filler(df):\n",
    "    df = df.copy()\n",
    "    return df['MS Zoning'].fillna(df['MS Zoning'].mode()[0])\n",
    "transformer = [ballet.eng.SimpleFunctionTransformer(func=mode_filler), sklearn.preprocessing.OneHotEncoder()]\n",
    "misc_fill = Feature(input=input, transformer=transformer)\n",
    "all_features.append(misc_fill)"
   ]
  },
  {
   "cell_type": "code",
   "execution_count": 39,
   "metadata": {},
   "outputs": [],
   "source": [
    "input = ['Exterior 1st']\n",
    "def mode_filler(df):\n",
    "    df = df.copy()\n",
    "    return df['Exterior 1st'].fillna(df['Exterior 1st'].mode()[0])\n",
    "transformer = [ballet.eng.SimpleFunctionTransformer(func=mode_filler), sklearn.preprocessing.OneHotEncoder()]\n",
    "misc_fill = Feature(input=input, transformer=transformer)\n",
    "all_features.append(misc_fill)"
   ]
  },
  {
   "cell_type": "code",
   "execution_count": 40,
   "metadata": {},
   "outputs": [],
   "source": [
    "input = ['Exterior 2nd']\n",
    "def mode_filler(df):\n",
    "    df = df.copy()\n",
    "    return df['Exterior 2nd'].fillna(df['Exterior 2nd'].mode()[0])\n",
    "transformer = [ballet.eng.SimpleFunctionTransformer(func=mode_filler), sklearn.preprocessing.OneHotEncoder()]\n",
    "misc_fill = Feature(input=input, transformer=transformer)\n",
    "all_features.append(misc_fill)"
   ]
  },
  {
   "cell_type": "code",
   "execution_count": 41,
   "metadata": {},
   "outputs": [],
   "source": [
    "input = ['Kitchen Qual']\n",
    "def mode_filler(df):\n",
    "    df = df.copy()\n",
    "    return df['Kitchen Qual'].fillna(df['Kitchen Qual'].mode()[0])\n",
    "transformer = [ballet.eng.SimpleFunctionTransformer(func=mode_filler), sklearn.preprocessing.OneHotEncoder()]\n",
    "misc_fill = Feature(input=input, transformer=transformer)\n",
    "all_features.append(misc_fill)"
   ]
  },
  {
   "cell_type": "code",
   "execution_count": 42,
   "metadata": {},
   "outputs": [],
   "source": [
    "input = ['Sale Type']\n",
    "def mode_filler(df):\n",
    "    df = df.copy()\n",
    "    return df['Sale Type'].fillna(df['Sale Type'].mode()[0])\n",
    "transformer = [ballet.eng.SimpleFunctionTransformer(func=mode_filler), sklearn.preprocessing.OneHotEncoder()]\n",
    "misc_fill = Feature(input=input, transformer=transformer)\n",
    "all_features.append(misc_fill)"
   ]
  },
  {
   "cell_type": "code",
   "execution_count": 43,
   "metadata": {},
   "outputs": [],
   "source": [
    "input = ['Yr Sold']\n",
    "year = Feature(input=input, transformer=sklearn.preprocessing.OneHotEncoder(), name='Year Categorical')\n",
    "all_features.append(year)"
   ]
  },
  {
   "cell_type": "code",
   "execution_count": 44,
   "metadata": {},
   "outputs": [],
   "source": [
    "input = ['Mo Sold']\n",
    "month = Feature(input=input, transformer=sklearn.preprocessing.OneHotEncoder(), name='Month Categorical')\n",
    "all_features.append(month)"
   ]
  },
  {
   "cell_type": "code",
   "execution_count": 45,
   "metadata": {},
   "outputs": [],
   "source": [
    "input = ['MS SubClass']\n",
    "transformer = [ballet.eng.missing.NullFiller(replacement=\"None\"), sklearn.preprocessing.OneHotEncoder()]\n",
    "ms_fill = Feature(input=input, transformer=transformer, name='MS Fill None')\n",
    "all_features.append(ms_fill)"
   ]
  }
 ],
 "metadata": {
  "kernelspec": {
   "display_name": "Python 3",
   "language": "python",
   "name": "python3"
  },
  "language_info": {
   "codemirror_mode": {
    "name": "ipython",
    "version": 3
   },
   "file_extension": ".py",
   "mimetype": "text/x-python",
   "name": "python",
   "nbconvert_exporter": "python",
   "pygments_lexer": "ipython3",
   "version": "3.6.5"
  }
 },
 "nbformat": 4,
 "nbformat_minor": 2
}
