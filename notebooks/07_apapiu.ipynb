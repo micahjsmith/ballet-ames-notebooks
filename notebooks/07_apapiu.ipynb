{
 "cells": [
  {
   "cell_type": "code",
   "execution_count": null,
   "metadata": {},
   "outputs": [],
   "source": [
    "# taken from https://www.kaggle.com/apapiu/regularized-linear-models\n",
    "# this one is interesting in that it uses mean and chooses to ignore nans\n",
    "# Adapted into the ballet framework\n",
    "import ballet\n",
    "import ballet.eng\n",
    "from ballet import Feature\n",
    "import numpy as np\n",
    "import pandas as pd\n",
    "import sklearn\n",
    "import sklearn_pandas\n",
    "from sklearn.model_selection import train_test_split\n",
    "\n",
    "ballet.__version__"
   ]
  },
  {
   "cell_type": "code",
   "execution_count": null,
   "metadata": {},
   "outputs": [],
   "source": [
    "all_features = []"
   ]
  },
  {
   "cell_type": "code",
   "execution_count": null,
   "metadata": {},
   "outputs": [],
   "source": [
    "# BsmtFinSF1, BsmtFinSF2, BsmtUnfSF, TotalBsmtSF, BsmtFullBath and BsmtHalfBath :\n",
    "# missing values are likely zero for having no basement\n",
    "input = ['BsmtFin SF1']\n",
    "def mean_filler(df):\n",
    "    df = df.copy()\n",
    "    return df['BsmtFin SF1'].fillna(df['BsmtFin SF1'].mean())\n",
    "transformer = ballet.eng.SimpleFunctionTransformer(func=mean_filler)\n",
    "mean_fill = Feature(input=input, transformer=transformer)\n",
    "all_features.append(mean_fill)"
   ]
  },
  {
   "cell_type": "code",
   "execution_count": null,
   "metadata": {},
   "outputs": [],
   "source": [
    "# BsmtFinSF1, BsmtFinSF2, BsmtUnfSF, TotalBsmtSF, BsmtFullBath and BsmtHalfBath :\n",
    "# missing values are likely zero for having no basement\n",
    "\n",
    "input = ['BsmtFin SF2']\n",
    "def mean_filler(df):\n",
    "    df = df.copy()\n",
    "    return df['BsmtFin SF2'].fillna(df['BsmtFin SF2'].mean())\n",
    "transformer = ballet.eng.SimpleFunctionTransformer(func=mean_filler)\n",
    "mean_fill = Feature(input=input, transformer=transformer)\n",
    "all_features.append(mean_fill)"
   ]
  },
  {
   "cell_type": "code",
   "execution_count": null,
   "metadata": {},
   "outputs": [],
   "source": [
    "# BsmtFinSF1, BsmtFinSF2, BsmtUnfSF, TotalBsmtSF, BsmtFullBath and BsmtHalfBath :\n",
    "# missing values are likely zero for having no basement\n",
    "\n",
    "input = ['Bsmt Unf SF']\n",
    "def mean_filler(df):\n",
    "    df = df.copy()\n",
    "    return df['Bsmt Unf SF'].fillna(df['Bsmt Unf SF'].mean())\n",
    "transformer = ballet.eng.SimpleFunctionTransformer(func=mean_filler)\n",
    "mean_fill = Feature(input=input, transformer=transformer)\n",
    "all_features.append(mean_fill)"
   ]
  },
  {
   "cell_type": "code",
   "execution_count": null,
   "metadata": {},
   "outputs": [],
   "source": [
    "# BsmtFinSF1, BsmtFinSF2, BsmtUnfSF, TotalBsmtSF, BsmtFullBath and BsmtHalfBath :\n",
    "# missing values are likely zero for having no basement\n",
    "\n",
    "input = ['Total Bsmt SF']\n",
    "def mean_filler(df):\n",
    "    df = df.copy()\n",
    "    return df['Bsmt Unf SF'].fillna(df['Bsmt Unf SF'].mean())\n",
    "transformer = ballet.eng.SimpleFunctionTransformer(func=mean_filler)\n",
    "mean_fill = Feature(input=input, transformer=transformer)\n",
    "all_features.append(mean_fill)"
   ]
  },
  {
   "cell_type": "code",
   "execution_count": null,
   "metadata": {},
   "outputs": [],
   "source": [
    "# BsmtFinSF1, BsmtFinSF2, BsmtUnfSF, TotalBsmtSF, BsmtFullBath and BsmtHalfBath :\n",
    "# missing values are likely zero for having no basement\n",
    "\n",
    "input = ['Bsmt Full Bath']\n",
    "def mean_filler(df):\n",
    "    df = df.copy()\n",
    "    return df['Bsmt Full Bath'].fillna(df['Bsmt Full Bath'].mean())\n",
    "transformer = ballet.eng.SimpleFunctionTransformer(func=mean_filler)\n",
    "mean_fill = Feature(input=input, transformer=transformer)\n",
    "all_features.append(mean_fill)"
   ]
  },
  {
   "cell_type": "code",
   "execution_count": null,
   "metadata": {},
   "outputs": [],
   "source": [
    "# BsmtFinSF1, BsmtFinSF2, BsmtUnfSF, TotalBsmtSF, BsmtFullBath and BsmtHalfBath :\n",
    "# missing values are likely zero for having no basement\n",
    "\n",
    "input = ['Bsmt Half Bath']\n",
    "def mean_filler(df):\n",
    "    df = df.copy()\n",
    "    return df['Bsmt Half Bath'].fillna(df['Bsmt Half Bath'].mean())\n",
    "transformer = ballet.eng.SimpleFunctionTransformer(func=mean_filler)\n",
    "mean_fill = Feature(input=input, transformer=transformer)\n",
    "all_features.append(mean_fill)"
   ]
  },
  {
   "cell_type": "code",
   "execution_count": null,
   "metadata": {},
   "outputs": [],
   "source": [
    "input = ['Mas Vnr Area']\n",
    "def mean_filler(df):\n",
    "    df = df.copy()\n",
    "    return df['Mas Vnr Area'].fillna(df['Mas Vnr Area'].mean())\n",
    "transformer = ballet.eng.SimpleFunctionTransformer(func=mean_filler)\n",
    "mean_fill = Feature(input=input, transformer=transformer)\n",
    "all_features.append(mean_fill)"
   ]
  },
  {
   "cell_type": "code",
   "execution_count": null,
   "metadata": {},
   "outputs": [],
   "source": [
    "input = ['Fireplace Qu']\n",
    "transformer = ballet.eng.missing.NullFiller(replacement=\"None\")\n",
    "fill = Feature(input=input, transformer=transformer, name='FireplaceQu Fill Zero')\n",
    "all_features.append(fill)"
   ]
  },
  {
   "cell_type": "code",
   "execution_count": 11,
   "metadata": {},
   "outputs": [],
   "source": [
    "input = ['Alley']\n",
    "transformer = [ballet.eng.missing.NullFiller(replacement=\"missing\"), sklearn.preprocessing.OneHotEncoder()]\n",
    "misc_fill = Feature(input=input, transformer=transformer, name='Alley Misc Fill')\n",
    "all_features.append(misc_fill)"
   ]
  },
  {
   "cell_type": "code",
   "execution_count": 12,
   "metadata": {},
   "outputs": [],
   "source": [
    "input = ['Land Slope']\n",
    "transformer = [ballet.eng.missing.NullFiller(replacement=\"None\"), sklearn.preprocessing.OneHotEncoder()]\n",
    "misc_fill = Feature(input=input, transformer=transformer)\n",
    "all_features.append(misc_fill)"
   ]
  },
  {
   "cell_type": "code",
   "execution_count": 13,
   "metadata": {},
   "outputs": [],
   "source": [
    "input = ['Mas Vnr Type']\n",
    "transformer = [ballet.eng.missing.NullFiller(replacement=\"None\"), sklearn.preprocessing.OneHotEncoder()]\n",
    "misc_fill = Feature(input=input, transformer=transformer)\n",
    "all_features.append(misc_fill)"
   ]
  },
  {
   "cell_type": "code",
   "execution_count": 14,
   "metadata": {},
   "outputs": [],
   "source": [
    "input = ['Garage Type']\n",
    "transformer = [ballet.eng.missing.NullFiller(replacement=\"missing\"), sklearn.preprocessing.OneHotEncoder()]\n",
    "misc_fill = Feature(input=input, transformer=transformer)\n",
    "all_features.append(misc_fill)"
   ]
  },
  {
   "cell_type": "code",
   "execution_count": 15,
   "metadata": {},
   "outputs": [],
   "source": [
    "input = ['Garage Cond']\n",
    "transformer = [ballet.eng.missing.NullFiller(replacement=\"missing\"), sklearn.preprocessing.OneHotEncoder()]\n",
    "misc_fill = Feature(input=input, transformer=transformer)\n",
    "all_features.append(misc_fill)"
   ]
  },
  {
   "cell_type": "code",
   "execution_count": 16,
   "metadata": {},
   "outputs": [],
   "source": [
    "input = ['Fence']\n",
    "transformer = [ballet.eng.missing.NullFiller(replacement=\"missing\"), sklearn.preprocessing.OneHotEncoder()]\n",
    "misc_fill = Feature(input=input, transformer=transformer)\n",
    "all_features.append(misc_fill)"
   ]
  },
  {
   "cell_type": "code",
   "execution_count": 17,
   "metadata": {},
   "outputs": [],
   "source": [
    "input = ['Street']\n",
    "transformer = [ballet.eng.missing.NullFiller(replacement=\"missing\"), sklearn.preprocessing.OneHotEncoder()]\n",
    "misc_fill = Feature(input=input, transformer=transformer)\n",
    "all_features.append(misc_fill)"
   ]
  },
  {
   "cell_type": "code",
   "execution_count": 18,
   "metadata": {},
   "outputs": [],
   "source": [
    "input = ['Lot Shape']\n",
    "transformer = [ballet.eng.missing.NullFiller(replacement=\"missing\"), sklearn.preprocessing.OneHotEncoder()]\n",
    "misc_fill = Feature(input=input, transformer=transformer)\n",
    "all_features.append(misc_fill)"
   ]
  },
  {
   "cell_type": "code",
   "execution_count": 19,
   "metadata": {},
   "outputs": [],
   "source": [
    "input = ['Land Contour']\n",
    "transformer = [ballet.eng.missing.NullFiller(replacement=\"missing\"), sklearn.preprocessing.OneHotEncoder()]\n",
    "misc_fill = Feature(input=input, transformer=transformer)\n",
    "all_features.append(misc_fill)"
   ]
  },
  {
   "cell_type": "code",
   "execution_count": 20,
   "metadata": {},
   "outputs": [],
   "source": [
    "input = ['BsmtFin Type 1']\n",
    "transformer = [ballet.eng.missing.NullFiller(replacement=\"missing\"), sklearn.preprocessing.OneHotEncoder()]\n",
    "misc_fill = Feature(input=input, transformer=transformer)\n",
    "all_features.append(misc_fill)"
   ]
  },
  {
   "cell_type": "code",
   "execution_count": 21,
   "metadata": {},
   "outputs": [],
   "source": [
    "input = ['BsmtFin Type 2']\n",
    "transformer = [ballet.eng.missing.NullFiller(replacement=\"missing\"), sklearn.preprocessing.OneHotEncoder()]\n",
    "misc_fill = Feature(input=input, transformer=transformer)\n",
    "all_features.append(misc_fill)"
   ]
  },
  {
   "cell_type": "code",
   "execution_count": 22,
   "metadata": {},
   "outputs": [],
   "source": [
    "input = ['Central Air']\n",
    "transformer = [ballet.eng.missing.NullFiller(replacement=\"missing\"), sklearn.preprocessing.OneHotEncoder()]\n",
    "misc_fill = Feature(input=input, transformer=transformer)\n",
    "all_features.append(misc_fill)"
   ]
  },
  {
   "cell_type": "code",
   "execution_count": 23,
   "metadata": {},
   "outputs": [],
   "source": [
    "input = ['Misc Feature']\n",
    "transformer = [ballet.eng.missing.NullFiller(replacement=\"missing\"), sklearn.preprocessing.OneHotEncoder()]\n",
    "misc_fill = Feature(input=input, transformer=transformer)\n",
    "all_features.append(misc_fill)"
   ]
  },
  {
   "cell_type": "code",
   "execution_count": 25,
   "metadata": {},
   "outputs": [],
   "source": [
    "input = ['Utilities']\n",
    "transformer = [ballet.eng.missing.NullFiller(replacement=\"missing\"), sklearn.preprocessing.OneHotEncoder()]\n",
    "misc_fill = Feature(input=input, transformer=transformer)\n",
    "all_features.append(misc_fill)"
   ]
  },
  {
   "cell_type": "code",
   "execution_count": 26,
   "metadata": {},
   "outputs": [],
   "source": [
    "input = ['Functional']\n",
    "transformer = [ballet.eng.missing.NullFiller(replacement=\"Typ\"), sklearn.preprocessing.OneHotEncoder()]\n",
    "misc_fill = Feature(input=input, transformer=transformer)\n",
    "all_features.append(misc_fill)"
   ]
  },
  {
   "cell_type": "code",
   "execution_count": 27,
   "metadata": {},
   "outputs": [],
   "source": [
    "input = ['Sale Condition']\n",
    "transformer = [ballet.eng.missing.NullFiller(replacement=\"Typ\"), sklearn.preprocessing.OneHotEncoder()]\n",
    "misc_fill = Feature(input=input, transformer=transformer)\n",
    "all_features.append(misc_fill)"
   ]
  },
  {
   "cell_type": "code",
   "execution_count": null,
   "metadata": {},
   "outputs": [],
   "source": []
  }
 ],
 "metadata": {
  "kernelspec": {
   "display_name": "Python 3",
   "language": "python",
   "name": "python3"
  },
  "language_info": {
   "codemirror_mode": {
    "name": "ipython",
    "version": 3
   },
   "file_extension": ".py",
   "mimetype": "text/x-python",
   "name": "python",
   "nbconvert_exporter": "python",
   "pygments_lexer": "ipython3",
   "version": "3.6.5"
  }
 },
 "nbformat": 4,
 "nbformat_minor": 2
}
