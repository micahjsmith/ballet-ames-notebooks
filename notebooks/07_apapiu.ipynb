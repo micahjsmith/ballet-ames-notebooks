{
 "cells": [
  {
   "cell_type": "code",
   "execution_count": 2,
   "metadata": {},
   "outputs": [
    {
     "data": {
      "text/plain": [
       "'0.5.1-dev'"
      ]
     },
     "execution_count": 2,
     "metadata": {},
     "output_type": "execute_result"
    }
   ],
   "source": [
    "# taken from https://www.kaggle.com/apapiu/regularized-linear-models\n",
    "# this one is interesting in that it uses mean and chooses to ignore nans\n",
    "# Adapted into the ballet framework\n",
    "import ballet\n",
    "import ballet.eng\n",
    "from ballet.validation.base import check_from_class\n",
    "from ballet.validation.feature_api_checks import FeatureApiCheck\n",
    "from ballet import Feature\n",
    "import numpy as np\n",
    "import pandas as pd\n",
    "import sklearn\n",
    "import sklearn_pandas\n",
    "from sklearn.model_selection import train_test_split\n",
    "\n",
    "ballet.__version__"
   ]
  },
  {
   "cell_type": "code",
   "execution_count": 31,
   "metadata": {},
   "outputs": [],
   "source": [
    "for i in range(len(all_features)):\n",
    "    success, failures = check_from_class(FeatureApiCheck, all_features[i], X, y)\n",
    "    if not success:\n",
    "        print('FAILURE AT INDEX ' + str(i))\n",
    "        print(failures)"
   ]
  },
  {
   "cell_type": "code",
   "execution_count": 3,
   "metadata": {},
   "outputs": [],
   "source": [
    "all_features = []"
   ]
  },
  {
   "cell_type": "code",
   "execution_count": 4,
   "metadata": {},
   "outputs": [],
   "source": [
    "# BsmtFinSF1, BsmtFinSF2, BsmtUnfSF, TotalBsmtSF, BsmtFullBath and BsmtHalfBath :\n",
    "# missing values are likely zero for having no basement\n",
    "input = ['BsmtFin SF 1']\n",
    "def mean_filler(df):\n",
    "    df = df.copy()\n",
    "    return df.fillna(df['BsmtFin SF 1'].mean())\n",
    "transformer = ballet.eng.SimpleFunctionTransformer(func=mean_filler)\n",
    "mean_fill = Feature(input=input, transformer=transformer)\n",
    "all_features.append(mean_fill)"
   ]
  },
  {
   "cell_type": "code",
   "execution_count": 5,
   "metadata": {},
   "outputs": [],
   "source": [
    "# BsmtFinSF1, BsmtFinSF2, BsmtUnfSF, TotalBsmtSF, BsmtFullBath and BsmtHalfBath :\n",
    "# missing values are likely zero for having no basement\n",
    "\n",
    "input = ['BsmtFin SF 2']\n",
    "def mean_filler(df):\n",
    "    df = df.copy()\n",
    "    return df.fillna(df.mean()['BsmtFin SF 2'])\n",
    "transformer = ballet.eng.SimpleFunctionTransformer(func=mean_filler)\n",
    "mean_fill = Feature(input=input, transformer=transformer)\n",
    "all_features.append(mean_fill)"
   ]
  },
  {
   "cell_type": "code",
   "execution_count": 6,
   "metadata": {},
   "outputs": [],
   "source": [
    "# BsmtFinSF1, BsmtFinSF2, BsmtUnfSF, TotalBsmtSF, BsmtFullBath and BsmtHalfBath :\n",
    "# missing values are likely zero for having no basement\n",
    "\n",
    "input = ['Bsmt Unf SF']\n",
    "def mean_filler(df):\n",
    "    df = df.copy()\n",
    "    return df.fillna(df.mean()['Bsmt Unf SF'])\n",
    "transformer = ballet.eng.SimpleFunctionTransformer(func=mean_filler)\n",
    "mean_fill = Feature(input=input, transformer=transformer)\n",
    "all_features.append(mean_fill)"
   ]
  },
  {
   "cell_type": "code",
   "execution_count": 7,
   "metadata": {},
   "outputs": [],
   "source": [
    "# BsmtFinSF1, BsmtFinSF2, BsmtUnfSF, TotalBsmtSF, BsmtFullBath and BsmtHalfBath :\n",
    "# missing values are likely zero for having no basement\n",
    "\n",
    "input = ['Total Bsmt SF']\n",
    "def mean_filler(df):\n",
    "    df = df.copy()\n",
    "    return df.fillna(df.mean()['Total Bsmt SF'])\n",
    "transformer = ballet.eng.SimpleFunctionTransformer(func=mean_filler)\n",
    "mean_fill = Feature(input=input, transformer=transformer)\n",
    "all_features.append(mean_fill)"
   ]
  },
  {
   "cell_type": "code",
   "execution_count": 8,
   "metadata": {},
   "outputs": [],
   "source": [
    "# BsmtFinSF1, BsmtFinSF2, BsmtUnfSF, TotalBsmtSF, BsmtFullBath and BsmtHalfBath :\n",
    "# missing values are likely zero for having no basement\n",
    "\n",
    "input = ['Bsmt Full Bath']\n",
    "def mean_filler(df):\n",
    "    df = df.copy()\n",
    "    return df.fillna(df.mean()['Bsmt Full Bath'])\n",
    "transformer = ballet.eng.SimpleFunctionTransformer(func=mean_filler)\n",
    "mean_fill = Feature(input=input, transformer=transformer)\n",
    "all_features.append(mean_fill)"
   ]
  },
  {
   "cell_type": "code",
   "execution_count": 9,
   "metadata": {},
   "outputs": [],
   "source": [
    "# BsmtFinSF1, BsmtFinSF2, BsmtUnfSF, TotalBsmtSF, BsmtFullBath and BsmtHalfBath :\n",
    "# missing values are likely zero for having no basement\n",
    "\n",
    "input = ['Bsmt Half Bath']\n",
    "def mean_filler(df):\n",
    "    df = df.copy()\n",
    "    return df.fillna(df.mean()['Bsmt Half Bath'])\n",
    "transformer = ballet.eng.SimpleFunctionTransformer(func=mean_filler)\n",
    "mean_fill = Feature(input=input, transformer=transformer)\n",
    "all_features.append(mean_fill)"
   ]
  },
  {
   "cell_type": "code",
   "execution_count": 10,
   "metadata": {},
   "outputs": [],
   "source": [
    "input = ['Mas Vnr Area']\n",
    "def mean_filler(df):\n",
    "    df = df.copy()\n",
    "    return df.fillna(df.mean()['Mas Vnr Area'])\n",
    "transformer = ballet.eng.SimpleFunctionTransformer(func=mean_filler)\n",
    "mean_fill = Feature(input=input, transformer=transformer)\n",
    "all_features.append(mean_fill)"
   ]
  },
  {
   "cell_type": "code",
   "execution_count": 11,
   "metadata": {},
   "outputs": [],
   "source": [
    "input = ['Fireplace Qu']\n",
    "transformer = [ballet.eng.missing.NullFiller(replacement=\"None\", isnull=pd.isnull), sklearn.preprocessing.OneHotEncoder()]\n",
    "fill = Feature(input=input, transformer=transformer, name='FireplaceQu Fill Zero')\n",
    "all_features.append(fill)"
   ]
  },
  {
   "cell_type": "code",
   "execution_count": 12,
   "metadata": {},
   "outputs": [],
   "source": [
    "input = ['Alley']\n",
    "transformer = [ballet.eng.missing.NullFiller(replacement=\"None\", isnull=pd.isnull), sklearn.preprocessing.OneHotEncoder()]\n",
    "misc_fill = Feature(input=input, transformer=transformer, name='Alley Misc Fill')\n",
    "all_features.append(misc_fill)"
   ]
  },
  {
   "cell_type": "code",
   "execution_count": 13,
   "metadata": {},
   "outputs": [],
   "source": [
    "input = ['Land Slope']\n",
    "transformer = [ballet.eng.missing.NullFiller(replacement=\"None\", isnull=pd.isnull), sklearn.preprocessing.OneHotEncoder()]\n",
    "misc_fill = Feature(input=input, transformer=transformer)\n",
    "all_features.append(misc_fill)"
   ]
  },
  {
   "cell_type": "code",
   "execution_count": 14,
   "metadata": {},
   "outputs": [],
   "source": [
    "input = ['Mas Vnr Type']\n",
    "transformer = [ballet.eng.missing.NullFiller(replacement=\"None\", isnull=pd.isnull), sklearn.preprocessing.OneHotEncoder()]\n",
    "misc_fill = Feature(input=input, transformer=transformer)\n",
    "all_features.append(misc_fill)"
   ]
  },
  {
   "cell_type": "code",
   "execution_count": 15,
   "metadata": {},
   "outputs": [],
   "source": [
    "input = ['Garage Type']\n",
    "transformer = [ballet.eng.missing.NullFiller(replacement=\"None\", isnull=pd.isnull), sklearn.preprocessing.OneHotEncoder()]\n",
    "misc_fill = Feature(input=input, transformer=transformer)\n",
    "all_features.append(misc_fill)"
   ]
  },
  {
   "cell_type": "code",
   "execution_count": 16,
   "metadata": {},
   "outputs": [],
   "source": [
    "input = ['Garage Cond']\n",
    "transformer = [ballet.eng.missing.NullFiller(replacement=\"None\", isnull=pd.isnull), sklearn.preprocessing.OneHotEncoder()]\n",
    "misc_fill = Feature(input=input, transformer=transformer)\n",
    "all_features.append(misc_fill)"
   ]
  },
  {
   "cell_type": "code",
   "execution_count": 17,
   "metadata": {},
   "outputs": [],
   "source": [
    "input = ['Fence']\n",
    "transformer = [ballet.eng.missing.NullFiller(replacement=\"None\", isnull=pd.isnull), sklearn.preprocessing.OneHotEncoder()]\n",
    "misc_fill = Feature(input=input, transformer=transformer)\n",
    "all_features.append(misc_fill)"
   ]
  },
  {
   "cell_type": "code",
   "execution_count": 18,
   "metadata": {},
   "outputs": [],
   "source": [
    "input = ['Street']\n",
    "transformer = [ballet.eng.missing.NullFiller(replacement=\"None\", isnull=pd.isnull), sklearn.preprocessing.OneHotEncoder()]\n",
    "misc_fill = Feature(input=input, transformer=transformer)\n",
    "all_features.append(misc_fill)"
   ]
  },
  {
   "cell_type": "code",
   "execution_count": 19,
   "metadata": {},
   "outputs": [],
   "source": [
    "input = ['Lot Shape']\n",
    "transformer = [ballet.eng.missing.NullFiller(replacement=\"None\", isnull=pd.isnull), sklearn.preprocessing.OneHotEncoder()]\n",
    "misc_fill = Feature(input=input, transformer=transformer)\n",
    "all_features.append(misc_fill)"
   ]
  },
  {
   "cell_type": "code",
   "execution_count": 20,
   "metadata": {},
   "outputs": [],
   "source": [
    "input = ['Land Contour']\n",
    "transformer = [ballet.eng.missing.NullFiller(replacement=\"None\", isnull=pd.isnull), sklearn.preprocessing.OneHotEncoder()]\n",
    "misc_fill = Feature(input=input, transformer=transformer)\n",
    "all_features.append(misc_fill)"
   ]
  },
  {
   "cell_type": "code",
   "execution_count": 21,
   "metadata": {},
   "outputs": [],
   "source": [
    "input = ['BsmtFin Type 1']\n",
    "transformer = [ballet.eng.missing.NullFiller(replacement=\"None\", isnull=pd.isnull), sklearn.preprocessing.OneHotEncoder()]\n",
    "misc_fill = Feature(input=input, transformer=transformer)\n",
    "all_features.append(misc_fill)"
   ]
  },
  {
   "cell_type": "code",
   "execution_count": 22,
   "metadata": {},
   "outputs": [],
   "source": [
    "input = ['BsmtFin Type 2']\n",
    "transformer = [ballet.eng.missing.NullFiller(replacement=\"None\", isnull=pd.isnull), sklearn.preprocessing.OneHotEncoder()]\n",
    "misc_fill = Feature(input=input, transformer=transformer)\n",
    "all_features.append(misc_fill)"
   ]
  },
  {
   "cell_type": "code",
   "execution_count": 23,
   "metadata": {},
   "outputs": [],
   "source": [
    "input = ['Central Air']\n",
    "transformer = [ballet.eng.missing.NullFiller(replacement=\"None\", isnull=pd.isnull), sklearn.preprocessing.OneHotEncoder()]\n",
    "misc_fill = Feature(input=input, transformer=transformer)\n",
    "all_features.append(misc_fill)"
   ]
  },
  {
   "cell_type": "code",
   "execution_count": 24,
   "metadata": {},
   "outputs": [],
   "source": [
    "input = ['Misc Feature']\n",
    "transformer = [ballet.eng.missing.NullFiller(replacement=\"None\", isnull=pd.isnull), sklearn.preprocessing.OneHotEncoder()]\n",
    "misc_fill = Feature(input=input, transformer=transformer)\n",
    "all_features.append(misc_fill)"
   ]
  },
  {
   "cell_type": "code",
   "execution_count": 25,
   "metadata": {},
   "outputs": [],
   "source": [
    "input = ['Utilities']\n",
    "transformer = [ballet.eng.missing.NullFiller(replacement=\"None\", isnull=pd.isnull), sklearn.preprocessing.OneHotEncoder()]\n",
    "misc_fill = Feature(input=input, transformer=transformer)\n",
    "all_features.append(misc_fill)"
   ]
  },
  {
   "cell_type": "code",
   "execution_count": 26,
   "metadata": {},
   "outputs": [],
   "source": [
    "input = ['Functional']\n",
    "transformer = [ballet.eng.missing.NullFiller(replacement=\"None\", isnull=pd.isnull), sklearn.preprocessing.OneHotEncoder()]\n",
    "misc_fill = Feature(input=input, transformer=transformer)\n",
    "all_features.append(misc_fill)"
   ]
  },
  {
   "cell_type": "code",
   "execution_count": 27,
   "metadata": {},
   "outputs": [],
   "source": [
    "input = ['Sale Condition']\n",
    "transformer = [ballet.eng.missing.NullFiller(replacement=\"None\", isnull=pd.isnull), sklearn.preprocessing.OneHotEncoder()]\n",
    "misc_fill = Feature(input=input, transformer=transformer)\n",
    "all_features.append(misc_fill)"
   ]
  },
  {
   "cell_type": "code",
   "execution_count": 28,
   "metadata": {},
   "outputs": [],
   "source": [
    "def load_ames():\n",
    "    '''Loads the Ames Housing dataset\n",
    "    \n",
    "    Source:\n",
    "    \n",
    "        Decock, Dean. \"Ames, Iowa: Alternative to the Boston Housing Data as an \n",
    "        End of Semester Regression Project.\"\n",
    "        <https://ww2.amstat.org/publications/jse/v19n3/decock.pdf>\n",
    "    '''\n",
    "    source = 'https://s3.amazonaws.com/mit-dai-ballet/ames/AmesHousing.txt'\n",
    "    df = pd.read_table(source)\n",
    "    X = df.drop('SalePrice', axis=1)\n",
    "    y = df['SalePrice']\n",
    "    return X, y"
   ]
  },
  {
   "cell_type": "code",
   "execution_count": 29,
   "metadata": {},
   "outputs": [],
   "source": [
    "X, y = load_ames()\n",
    "# X.columns.values.tolist()"
   ]
  },
  {
   "cell_type": "code",
   "execution_count": 30,
   "metadata": {},
   "outputs": [],
   "source": [
    "X_tr, X_te, y_tr, y_te = train_test_split(X, y, random_state=3)"
   ]
  },
  {
   "cell_type": "code",
   "execution_count": 144,
   "metadata": {
    "scrolled": true
   },
   "outputs": [
    {
     "data": {
      "text/plain": [
       "DataFrameMapper(default=False, df_out=False,\n",
       "        features=[(['BsmtFin SF 1'], SimpleFunctionTransformer(func=<function mean_filler at 0x1092e47b8>,\n",
       "             func_args=(), func_kwargs={})), (['BsmtFin SF 2'], SimpleFunctionTransformer(func=<function mean_filler at 0x1092e4a60>,\n",
       "             func_args=(), func_kwargs={})), (['Bsmt Unf SF'], Simp...      dtype=<class 'numpy.float64'>, handle_unknown='error',\n",
       "       n_values=None, sparse=True))]))],\n",
       "        input_df=True, sparse=False)"
      ]
     },
     "execution_count": 144,
     "metadata": {},
     "output_type": "execute_result"
    }
   ],
   "source": [
    "mapper = ballet.make_mapper(all_features)\n",
    "mapper.fit(X_tr, y_tr)"
   ]
  },
  {
   "cell_type": "code",
   "execution_count": 145,
   "metadata": {},
   "outputs": [
    {
     "data": {
      "text/plain": [
       "array([[  6.49000000e+02,   0.00000000e+00,   3.26000000e+02, ...,\n",
       "          0.00000000e+00,   1.00000000e+00,   0.00000000e+00],\n",
       "       [  3.09000000e+02,   0.00000000e+00,   1.74000000e+02, ...,\n",
       "          0.00000000e+00,   1.00000000e+00,   0.00000000e+00],\n",
       "       [  6.63000000e+02,   0.00000000e+00,   2.01000000e+02, ...,\n",
       "          1.00000000e+00,   0.00000000e+00,   0.00000000e+00],\n",
       "       ..., \n",
       "       [  4.12000000e+02,   2.87000000e+02,   2.51000000e+02, ...,\n",
       "          0.00000000e+00,   1.00000000e+00,   0.00000000e+00],\n",
       "       [  1.00400000e+03,   0.00000000e+00,   7.30000000e+02, ...,\n",
       "          0.00000000e+00,   0.00000000e+00,   1.00000000e+00],\n",
       "       [  0.00000000e+00,   0.00000000e+00,   0.00000000e+00, ...,\n",
       "          0.00000000e+00,   1.00000000e+00,   0.00000000e+00]])"
      ]
     },
     "execution_count": 145,
     "metadata": {},
     "output_type": "execute_result"
    }
   ],
   "source": [
    "mapper.transform(X_tr)"
   ]
  },
  {
   "cell_type": "code",
   "execution_count": 85,
   "metadata": {},
   "outputs": [
    {
     "data": {
      "text/plain": [
       "442.62956640491637"
      ]
     },
     "execution_count": 85,
     "metadata": {},
     "output_type": "execute_result"
    }
   ],
   "source": []
  },
  {
   "cell_type": "code",
   "execution_count": null,
   "metadata": {},
   "outputs": [],
   "source": []
  }
 ],
 "metadata": {
  "kernelspec": {
   "display_name": "Python 3",
   "language": "python",
   "name": "python3"
  },
  "language_info": {
   "codemirror_mode": {
    "name": "ipython",
    "version": 3
   },
   "file_extension": ".py",
   "mimetype": "text/x-python",
   "name": "python",
   "nbconvert_exporter": "python",
   "pygments_lexer": "ipython3",
   "version": "3.6.5"
  }
 },
 "nbformat": 4,
 "nbformat_minor": 2
}
