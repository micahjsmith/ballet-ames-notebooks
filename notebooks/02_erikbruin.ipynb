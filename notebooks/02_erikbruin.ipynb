{
 "cells": [
  {
   "cell_type": "code",
   "execution_count": 1,
   "metadata": {},
   "outputs": [
    {
     "data": {
      "text/plain": [
       "'0.4.1'"
      ]
     },
     "execution_count": 1,
     "metadata": {},
     "output_type": "execute_result"
    }
   ],
   "source": [
    "# taken from https://www.kaggle.com/erikbruin/house-prices-lasso-xgboost-and-a-detailed-eda\n",
    "# Adapted into the ballet framework\n",
    "import ballet\n",
    "import ballet.eng\n",
    "from ballet import Feature\n",
    "import numpy as np\n",
    "import pandas as pd\n",
    "import sklearn\n",
    "import sklearn_pandas\n",
    "from sklearn.model_selection import train_test_split\n",
    "\n",
    "ballet.__version__"
   ]
  },
  {
   "cell_type": "code",
   "execution_count": 2,
   "metadata": {},
   "outputs": [],
   "source": [
    "all_features = []"
   ]
  },
  {
   "cell_type": "code",
   "execution_count": 3,
   "metadata": {},
   "outputs": [],
   "source": [
    "input = ['YrSold']\n",
    "def cat_year(df):\n",
    "    return df['YrSold'].astype(str)\n",
    "transformer = ballet.eng.SimpleFunctionTransformer(func=cat_year)\n",
    "year = Feature(input=input, transformer=[transformer, sklearn.preprocessing.OneHotEncoder()], name='Year Categorical')\n",
    "all_features.append(year)"
   ]
  },
  {
   "cell_type": "code",
   "execution_count": 4,
   "metadata": {},
   "outputs": [],
   "source": [
    "input = ['MoSold']\n",
    "def cat_month(df):\n",
    "    return df['MoSold'].astype(str)\n",
    "transformer = ballet.eng.SimpleFunctionTransformer(func=cat_month)\n",
    "month = Feature(input=input, transformer=[transformer, sklearn.preprocessing.OneHotEncoder()], name='Month Categorical')\n",
    "all_features.append(month)"
   ]
  },
  {
   "cell_type": "code",
   "execution_count": 5,
   "metadata": {},
   "outputs": [],
   "source": []
  },
  {
   "cell_type": "code",
   "execution_count": 6,
   "metadata": {},
   "outputs": [],
   "source": [
    "input = ['GarageYrBlt', 'YearBuilt']\n",
    "def fill_garage(df):\n",
    "    new_garage = df['GarageYrBlt'].copy()\n",
    "    mask = df['GarageYrBlt'].isnan()\n",
    "    new_garage[mask] = df['YearBuilt'][mask]\n",
    "    return new_garage\n",
    "transformer = ballet.eng.SimpleFunctionTransformer(func=fill_garage)"
   ]
  },
  {
   "cell_type": "code",
   "execution_count": 7,
   "metadata": {},
   "outputs": [],
   "source": [
    "input = ['Heating', 'Foundation', 'RoofStyle', 'LandContour', 'BldgType', 'HouseStyle', 'Neighborhood', 'Condition1', 'Condition2']\n",
    "factor = Feature(input=input, transformer=sklearn.preprocessing.OneHotEncoder(), name='Factors')\n",
    "all_features.append(factor)"
   ]
  },
  {
   "cell_type": "code",
   "execution_count": 8,
   "metadata": {},
   "outputs": [],
   "source": [
    "input = ['FullBath', 'HalfBath', 'BsmtFullBath', 'BsmtHalfBath']\n",
    "def calc_bath(df):\n",
    "    return df[FullBath] + 0.5 * df['HalfBath'] + df['BsmtFullBath'] + 0.5 * df['BsmtHalfBath']\n",
    "transformer = ballet.eng.SimpleFunctionTransformer(func=calc_bath)\n",
    "baths = Feature(input=input, transformer=transformer, name='Bathroom Count')\n",
    "all_features.append(baths)"
   ]
  },
  {
   "cell_type": "code",
   "execution_count": 9,
   "metadata": {},
   "outputs": [],
   "source": [
    "input = ['YrSold', 'YearRemodAdd']\n",
    "def calc_age(df):\n",
    "    return df['YrSold'] - df['YearRemodAdd']\n",
    "transformer = ballet.eng.SimpleFunctionTransformer(func=calc_age)\n",
    "age = Feature(input=input, transformer=transformer, name='Age')\n",
    "all_features.append(age)"
   ]
  },
  {
   "cell_type": "code",
   "execution_count": 10,
   "metadata": {},
   "outputs": [],
   "source": [
    "input = ['YearBuilt', 'YearRemodAdd']\n",
    "def is_remod(df):\n",
    "    return df['YearBuilt'] == df['YearRemodAdd']\n",
    "transformer = ballet.eng.SimpleFunctionTransformer(func=is_remod)\n",
    "remod = Feature(input=input, transformer=transformer, name='Remodeled')\n",
    "all_features.append(remod)"
   ]
  },
  {
   "cell_type": "code",
   "execution_count": null,
   "metadata": {},
   "outputs": [],
   "source": [
    "input = ['GrLivArea', 'TotalBsmtSF']\n",
    "def total_area(df):\n",
    "    return df['GrLivArea'] + df['TotalBsmtSF']\n",
    "transformer = ballet.eng.SimpleFunctionTransformer(func=total_area)\n",
    "area = Feature(input=input, transformer=transformer, name='Total Area')\n",
    "all_features.append(area)"
   ]
  }
 ],
 "metadata": {
  "kernelspec": {
   "display_name": "Python 3",
   "language": "python",
   "name": "python3"
  },
  "language_info": {
   "codemirror_mode": {
    "name": "ipython",
    "version": 3
   },
   "file_extension": ".py",
   "mimetype": "text/x-python",
   "name": "python",
   "nbconvert_exporter": "python",
   "pygments_lexer": "ipython3",
   "version": "3.6.5"
  }
 },
 "nbformat": 4,
 "nbformat_minor": 2
}
