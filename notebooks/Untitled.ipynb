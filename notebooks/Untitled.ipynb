{
 "cells": [
  {
   "cell_type": "code",
   "execution_count": 1,
   "metadata": {},
   "outputs": [
    {
     "data": {
      "text/plain": [
       "'3.6.5'"
      ]
     },
     "execution_count": 1,
     "metadata": {},
     "output_type": "execute_result"
    }
   ],
   "source": [
    "import platform\n",
    "platform.python_version()"
   ]
  },
  {
   "cell_type": "code",
   "execution_count": 2,
   "metadata": {},
   "outputs": [
    {
     "data": {
      "text/plain": [
       "'0.5.3-dev'"
      ]
     },
     "execution_count": 2,
     "metadata": {},
     "output_type": "execute_result"
    }
   ],
   "source": [
    "import ballet\n",
    "ballet.__version__"
   ]
  },
  {
   "cell_type": "markdown",
   "metadata": {},
   "source": [
    "import ballet.util.log\n",
    "ballet.util.log.enable()"
   ]
  },
  {
   "cell_type": "code",
   "execution_count": 3,
   "metadata": {},
   "outputs": [],
   "source": [
    "import ballet.eng\n",
    "from ballet import Feature\n",
    "from ballet.validation.feature_acceptance.validator import (\n",
    "    GFSSFAcceptanceEvaluator)\n",
    "from ballet.validation.feature_pruning.validator import GFSSFPruningEvaluator\n",
    "from ballet.eng import GroupwiseTransformer, SimpleFunctionTransformer\n",
    "import ballet.validation.entropy as entropy\n",
    "from ballet.util import asarray2d\n",
    "from sklearn.impute import SimpleImputer"
   ]
  },
  {
   "cell_type": "code",
   "execution_count": 4,
   "metadata": {},
   "outputs": [],
   "source": [
    "import numpy as np\n",
    "import pandas as pd\n",
    "import sklearn\n",
    "import sklearn_pandas\n",
    "from sklearn.model_selection import train_test_split\n"
   ]
  },
  {
   "cell_type": "markdown",
   "metadata": {},
   "source": [
    "# Prepare the Ames Housing dataset\n",
    "\n",
    "The Ames housing dataset is a more \"elaborate\" version of the toy Boston housing prices dataset. The goal is to predict the sale price of houses in Ames, Iowa. We are faced with more \"real-world\" data, thus feature engineering is an important part of achieving a good solution."
   ]
  },
  {
   "cell_type": "code",
   "execution_count": 5,
   "metadata": {},
   "outputs": [],
   "source": [
    "def load_ames():\n",
    "    '''Loads the Ames Housing dataset\n",
    "    \n",
    "    Source:\n",
    "    \n",
    "        Decock, Dean. \"Ames, Iowa: Alternative to the Boston Housing Data as an \n",
    "        End of Semester Regression Project.\"\n",
    "        <https://ww2.amstat.org/publications/jse/v19n3/decock.pdf>\n",
    "    '''\n",
    "    source = 'https://s3.amazonaws.com/mit-dai-ballet/ames/AmesHousing.txt'\n",
    "    df = pd.read_table(source)\n",
    "    X = df.drop('SalePrice', axis=1)\n",
    "    y = df['SalePrice']\n",
    "    return X, y"
   ]
  },
  {
   "cell_type": "code",
   "execution_count": 6,
   "metadata": {},
   "outputs": [
    {
     "data": {
      "text/plain": [
       "Index(['Order', 'PID', 'MS SubClass', 'MS Zoning', 'Lot Frontage', 'Lot Area',\n",
       "       'Street', 'Alley', 'Lot Shape', 'Land Contour', 'Utilities',\n",
       "       'Lot Config', 'Land Slope', 'Neighborhood', 'Condition 1',\n",
       "       'Condition 2', 'Bldg Type', 'House Style', 'Overall Qual',\n",
       "       'Overall Cond', 'Year Built', 'Year Remod/Add', 'Roof Style',\n",
       "       'Roof Matl', 'Exterior 1st', 'Exterior 2nd', 'Mas Vnr Type',\n",
       "       'Mas Vnr Area', 'Exter Qual', 'Exter Cond', 'Foundation', 'Bsmt Qual',\n",
       "       'Bsmt Cond', 'Bsmt Exposure', 'BsmtFin Type 1', 'BsmtFin SF 1',\n",
       "       'BsmtFin Type 2', 'BsmtFin SF 2', 'Bsmt Unf SF', 'Total Bsmt SF',\n",
       "       'Heating', 'Heating QC', 'Central Air', 'Electrical', '1st Flr SF',\n",
       "       '2nd Flr SF', 'Low Qual Fin SF', 'Gr Liv Area', 'Bsmt Full Bath',\n",
       "       'Bsmt Half Bath', 'Full Bath', 'Half Bath', 'Bedroom AbvGr',\n",
       "       'Kitchen AbvGr', 'Kitchen Qual', 'TotRms AbvGrd', 'Functional',\n",
       "       'Fireplaces', 'Fireplace Qu', 'Garage Type', 'Garage Yr Blt',\n",
       "       'Garage Finish', 'Garage Cars', 'Garage Area', 'Garage Qual',\n",
       "       'Garage Cond', 'Paved Drive', 'Wood Deck SF', 'Open Porch SF',\n",
       "       'Enclosed Porch', '3Ssn Porch', 'Screen Porch', 'Pool Area', 'Pool QC',\n",
       "       'Fence', 'Misc Feature', 'Misc Val', 'Mo Sold', 'Yr Sold', 'Sale Type',\n",
       "       'Sale Condition'],\n",
       "      dtype='object')"
      ]
     },
     "execution_count": 6,
     "metadata": {},
     "output_type": "execute_result"
    }
   ],
   "source": [
    "X, y = load_ames()\n",
    "y = asarray2d(y)\n",
    "X.columns"
   ]
  },
  {
   "cell_type": "code",
   "execution_count": 7,
   "metadata": {},
   "outputs": [],
   "source": [
    "X_tr, X_te, y_tr, y_te = train_test_split(X, y, random_state=3)"
   ]
  },
  {
   "cell_type": "code",
   "execution_count": 8,
   "metadata": {},
   "outputs": [],
   "source": [
    "input = ['Lot Frontage', 'Neighborhood']\n",
    "transformer = [\n",
    "    SimpleFunctionTransformer(lambda df: df.set_index('Neighborhood',\n",
    "                                                      append=True)),\n",
    "    GroupwiseTransformer(\n",
    "        SimpleImputer(strategy='median'),\n",
    "        groupby_kwargs={'level': 'Neighborhood'},\n",
    "        handle_error='ignore',\n",
    "    ),\n",
    "    SimpleImputer(strategy='median'),\n",
    "]\n",
    "f_1 = Feature(input=input,\n",
    "                  transformer=transformer,\n",
    "                  name='Imputed Lot Frontage')"
   ]
  },
  {
   "cell_type": "code",
   "execution_count": 9,
   "metadata": {},
   "outputs": [],
   "source": [
    "input = 'Lot Area'\n",
    "transformer = SimpleFunctionTransformer(np.sqrt)\n",
    "name = 'Sqrt Lot Area'\n",
    "f_2 = Feature(input=input, transformer=transformer, name=name)"
   ]
  },
  {
   "cell_type": "code",
   "execution_count": 10,
   "metadata": {},
   "outputs": [],
   "source": [
    "from sklearn.impute import SimpleImputer\n",
    "\n",
    "input = [\"Lot Frontage\"]\n",
    "transformer = SimpleImputer(strategy=\"mean\")\n",
    "name = \"Lot Frontage Fill\"\n",
    "f_3 = Feature(input=input, transformer=transformer, name=name)"
   ]
  },
  {
   "cell_type": "code",
   "execution_count": 15,
   "metadata": {},
   "outputs": [],
   "source": [
    "input = [\"Overall Qual\", \"Overall Cond\"]\n",
    "\n",
    "\n",
    "def calc_qual(df):\n",
    "    return df[\"Overall Qual\"] - df[\"Overall Cond\"]\n",
    "\n",
    "\n",
    "transformer = SimpleFunctionTransformer(calc_qual)\n",
    "name = \"Qual\"\n",
    "f_4 = Feature(input=input, transformer=transformer, name=name)"
   ]
  },
  {
   "cell_type": "code",
   "execution_count": 11,
   "metadata": {},
   "outputs": [],
   "source": [
    "def calc_mi(x,y, n_1, n_2):\n",
    "    mi = entropy.estimate_mutual_information(x,y)\n",
    "    print('Found Mutual Information between {} and {} to be: {}'.format(n_1, n_2, mi))\n",
    "    \n",
    "def calc_cmi(x,y,z, n_1, n_2, n_3):\n",
    "    cmi = entropy.estimate_conditional_information(x,y,z)\n",
    "    print('Found Cond Information between {} and {} given {} to be: {}'.format(n_1, n_2, n_3, cmi))"
   ]
  },
  {
   "cell_type": "code",
   "execution_count": 17,
   "metadata": {},
   "outputs": [
    {
     "name": "stdout",
     "output_type": "stream",
     "text": [
      "Found Mutual Information between Lot Frontage and Target to be: 2.57903767669501\n",
      "Found Mutual Information between Sqrt Area and Target to be: 4.848567742968713\n",
      "Found Mutual Information between Cond and Target to be: 1.108826810459087\n"
     ]
    }
   ],
   "source": [
    "df_1 = asarray2d(f_1.as_dataframe_mapper().fit_transform(X, y))\n",
    "df_2 = asarray2d(f_2.as_dataframe_mapper().fit_transform(X, y))\n",
    "df_4 = asarray2d(f_4.as_dataframe_mapper().fit_transform(X, y))\n",
    "calc_mi(df_1, y, 'Lot Frontage', 'Target')\n",
    "calc_mi(df_2, y, 'Sqrt Area', 'Target')\n",
    "calc_mi(df_4, y, 'Cond', 'Target')\n",
    "\n",
    "# calc_mi(df_1, df_2, 'Lot Frontage', 'Sqrt Area')\n",
    "# calc_cmi(df_1, y, df_2, 'Lot Frontage', 'Target', 'Sqrt Area')\n",
    "# calc_cmi(df_2, y, df_1, 'Sqrt Area', 'Target', 'Lot Frontage')"
   ]
  },
  {
   "cell_type": "code",
   "execution_count": null,
   "metadata": {},
   "outputs": [],
   "source": []
  }
 ],
 "metadata": {
  "kernelspec": {
   "display_name": "Python 3",
   "language": "python",
   "name": "python3"
  },
  "language_info": {
   "codemirror_mode": {
    "name": "ipython",
    "version": 3
   },
   "file_extension": ".py",
   "mimetype": "text/x-python",
   "name": "python",
   "nbconvert_exporter": "python",
   "pygments_lexer": "ipython3",
   "version": "3.6.5"
  }
 },
 "nbformat": 4,
 "nbformat_minor": 2
}
